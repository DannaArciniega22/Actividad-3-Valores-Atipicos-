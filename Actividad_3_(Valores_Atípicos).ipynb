{
  "nbformat": 4,
  "nbformat_minor": 0,
  "metadata": {
    "colab": {
      "provenance": [],
      "authorship_tag": "ABX9TyNXHcecD8GDuY+s6LEdiv1a",
      "include_colab_link": true
    },
    "kernelspec": {
      "name": "python3",
      "display_name": "Python 3"
    },
    "language_info": {
      "name": "python"
    }
  },
  "cells": [
    {
      "cell_type": "markdown",
      "metadata": {
        "id": "view-in-github",
        "colab_type": "text"
      },
      "source": [
        "<a href=\"https://colab.research.google.com/github/DannaArciniega22/Actividad-3-Valores-Atipicos-/blob/main/Actividad_3_(Valores_At%C3%ADpicos).ipynb\" target=\"_parent\"><img src=\"https://colab.research.google.com/assets/colab-badge.svg\" alt=\"Open In Colab\"/></a>"
      ]
    },
    {
      "cell_type": "markdown",
      "source": [
        "ACTIVIDAD 3 | VALORES NULOS\n",
        "*   Danna Paola Arciniega Zúñiga | A01731987"
      ],
      "metadata": {
        "id": "CQQS6YSGU4hK"
      }
    },
    {
      "cell_type": "code",
      "execution_count": 1,
      "metadata": {
        "id": "nddA_rvjUpW6"
      },
      "outputs": [],
      "source": [
        "#IMPORTAR LIBRERIAS\n",
        "import pandas as pd\n",
        "import numpy as np\n",
        "import matplotlib.pyplot as plt"
      ]
    },
    {
      "cell_type": "code",
      "source": [
        "#MOSTRAR TODO EL DATA FRAME → FILAS\n",
        "pd.options.display.max_rows = None"
      ],
      "metadata": {
        "id": "efX4GZt9U9Lb"
      },
      "execution_count": 2,
      "outputs": []
    },
    {
      "cell_type": "code",
      "source": [
        "#CARGAR ARCHIVOS\n",
        "from google.colab import files\n",
        "files.upload()"
      ],
      "metadata": {
        "id": "LzF71-2OU-3M"
      },
      "execution_count": null,
      "outputs": []
    },
    {
      "cell_type": "code",
      "source": [
        "#CARGA DESDE UN ARCHIVO .csv SIN INDICE\n",
        "df = pd.read_csv('Limpieza_Ventas_totales.csv')\n",
        "df.head()"
      ],
      "metadata": {
        "colab": {
          "base_uri": "https://localhost:8080/",
          "height": 273
        },
        "id": "8BIFsz-6VAVr",
        "outputId": "077bb909-7e11-441a-ae54-8dd8727d7d8a"
      },
      "execution_count": 4,
      "outputs": [
        {
          "output_type": "execute_result",
          "data": {
            "text/plain": [
              "   Unnamed: 0 indice_tiempo  ventas_precios_corrientes  \\\n",
              "0           0    01/01/2017                    27858.9   \n",
              "1           1    01/02/2017                    25994.2   \n",
              "2           2    01/03/2017                    27780.0   \n",
              "3           3    01/04/2017                    29134.3   \n",
              "4           4    01/05/2017                    27969.0   \n",
              "\n",
              "   ventas_precios_constantes  ventas_totales_canal_venta  salon_ventas  \\\n",
              "0                    27477.3                 27858872.08   27591730.13   \n",
              "1                    25223.4                 25994200.17   25749179.40   \n",
              "2                    26334.3                 27780006.52   27472228.72   \n",
              "3                    27045.9                 29134272.22   28827479.49   \n",
              "4                    25631.9                 27969004.68   27569311.41   \n",
              "\n",
              "   canales_on_line  ventas_totales_medio_pago      efectivo  tarjetas_debito  \\\n",
              "0       267141.956                27858872.08  1.023010e+07      6864575.384   \n",
              "1       245020.769                25994200.17  9.719067e+06      6438494.011   \n",
              "2       307777.804                27780006.52  1.024444e+07      6908522.962   \n",
              "3       306792.733                29134272.22  1.031263e+07      7454251.800   \n",
              "4       399693.262                27969004.68  1.014761e+07      6735747.319   \n",
              "\n",
              "   ...      almacen     panaderia      lacteos       carnes  \\\n",
              "0  ...  6705475.318  9.459063e+05  2880656.169  2606192.942   \n",
              "1  ...  6576624.803  9.256186e+05  2855639.900  2600083.591   \n",
              "2  ...  7437264.174  1.016148e+06  3188259.169  2824976.726   \n",
              "3  ...  8211244.093  1.132396e+06  3257140.159  3006158.760   \n",
              "4  ...  7651058.084  1.033082e+06  3232635.767  2799142.123   \n",
              "\n",
              "   verduleria_fruteria  alimentos_preparados_rotiseria  \\\n",
              "0         1.050314e+06                     340777.3882   \n",
              "1         1.026167e+06                     328288.6951   \n",
              "2         1.075526e+06                     353335.1548   \n",
              "3         1.037213e+06                     359694.4537   \n",
              "4         9.826512e+05                     336568.0085   \n",
              "\n",
              "   articulos_limpieza_perfumeria  indumentaria_calzado_textiles_hogar  \\\n",
              "0                    4397543.671                          772371.8476   \n",
              "1                    4053283.771                          672290.5165   \n",
              "2                    4354197.611                          667696.6653   \n",
              "3                    4355706.646                          838948.2458   \n",
              "4                    4206101.605                          915895.1498   \n",
              "\n",
              "   electronicos_articulos_hogar        otros  \n",
              "0                   1838507.096  2806660.309  \n",
              "1                   1257661.903  2354084.901  \n",
              "2                   1305674.917  2266189.277  \n",
              "3                   1535726.345  2146755.887  \n",
              "4                   1824462.036  2117971.483  \n",
              "\n",
              "[5 rows x 25 columns]"
            ],
            "text/html": [
              "\n",
              "  <div id=\"df-7f3ecf26-df20-4153-94a0-d1ad5dd2ccac\" class=\"colab-df-container\">\n",
              "    <div>\n",
              "<style scoped>\n",
              "    .dataframe tbody tr th:only-of-type {\n",
              "        vertical-align: middle;\n",
              "    }\n",
              "\n",
              "    .dataframe tbody tr th {\n",
              "        vertical-align: top;\n",
              "    }\n",
              "\n",
              "    .dataframe thead th {\n",
              "        text-align: right;\n",
              "    }\n",
              "</style>\n",
              "<table border=\"1\" class=\"dataframe\">\n",
              "  <thead>\n",
              "    <tr style=\"text-align: right;\">\n",
              "      <th></th>\n",
              "      <th>Unnamed: 0</th>\n",
              "      <th>indice_tiempo</th>\n",
              "      <th>ventas_precios_corrientes</th>\n",
              "      <th>ventas_precios_constantes</th>\n",
              "      <th>ventas_totales_canal_venta</th>\n",
              "      <th>salon_ventas</th>\n",
              "      <th>canales_on_line</th>\n",
              "      <th>ventas_totales_medio_pago</th>\n",
              "      <th>efectivo</th>\n",
              "      <th>tarjetas_debito</th>\n",
              "      <th>...</th>\n",
              "      <th>almacen</th>\n",
              "      <th>panaderia</th>\n",
              "      <th>lacteos</th>\n",
              "      <th>carnes</th>\n",
              "      <th>verduleria_fruteria</th>\n",
              "      <th>alimentos_preparados_rotiseria</th>\n",
              "      <th>articulos_limpieza_perfumeria</th>\n",
              "      <th>indumentaria_calzado_textiles_hogar</th>\n",
              "      <th>electronicos_articulos_hogar</th>\n",
              "      <th>otros</th>\n",
              "    </tr>\n",
              "  </thead>\n",
              "  <tbody>\n",
              "    <tr>\n",
              "      <th>0</th>\n",
              "      <td>0</td>\n",
              "      <td>01/01/2017</td>\n",
              "      <td>27858.9</td>\n",
              "      <td>27477.3</td>\n",
              "      <td>27858872.08</td>\n",
              "      <td>27591730.13</td>\n",
              "      <td>267141.956</td>\n",
              "      <td>27858872.08</td>\n",
              "      <td>1.023010e+07</td>\n",
              "      <td>6864575.384</td>\n",
              "      <td>...</td>\n",
              "      <td>6705475.318</td>\n",
              "      <td>9.459063e+05</td>\n",
              "      <td>2880656.169</td>\n",
              "      <td>2606192.942</td>\n",
              "      <td>1.050314e+06</td>\n",
              "      <td>340777.3882</td>\n",
              "      <td>4397543.671</td>\n",
              "      <td>772371.8476</td>\n",
              "      <td>1838507.096</td>\n",
              "      <td>2806660.309</td>\n",
              "    </tr>\n",
              "    <tr>\n",
              "      <th>1</th>\n",
              "      <td>1</td>\n",
              "      <td>01/02/2017</td>\n",
              "      <td>25994.2</td>\n",
              "      <td>25223.4</td>\n",
              "      <td>25994200.17</td>\n",
              "      <td>25749179.40</td>\n",
              "      <td>245020.769</td>\n",
              "      <td>25994200.17</td>\n",
              "      <td>9.719067e+06</td>\n",
              "      <td>6438494.011</td>\n",
              "      <td>...</td>\n",
              "      <td>6576624.803</td>\n",
              "      <td>9.256186e+05</td>\n",
              "      <td>2855639.900</td>\n",
              "      <td>2600083.591</td>\n",
              "      <td>1.026167e+06</td>\n",
              "      <td>328288.6951</td>\n",
              "      <td>4053283.771</td>\n",
              "      <td>672290.5165</td>\n",
              "      <td>1257661.903</td>\n",
              "      <td>2354084.901</td>\n",
              "    </tr>\n",
              "    <tr>\n",
              "      <th>2</th>\n",
              "      <td>2</td>\n",
              "      <td>01/03/2017</td>\n",
              "      <td>27780.0</td>\n",
              "      <td>26334.3</td>\n",
              "      <td>27780006.52</td>\n",
              "      <td>27472228.72</td>\n",
              "      <td>307777.804</td>\n",
              "      <td>27780006.52</td>\n",
              "      <td>1.024444e+07</td>\n",
              "      <td>6908522.962</td>\n",
              "      <td>...</td>\n",
              "      <td>7437264.174</td>\n",
              "      <td>1.016148e+06</td>\n",
              "      <td>3188259.169</td>\n",
              "      <td>2824976.726</td>\n",
              "      <td>1.075526e+06</td>\n",
              "      <td>353335.1548</td>\n",
              "      <td>4354197.611</td>\n",
              "      <td>667696.6653</td>\n",
              "      <td>1305674.917</td>\n",
              "      <td>2266189.277</td>\n",
              "    </tr>\n",
              "    <tr>\n",
              "      <th>3</th>\n",
              "      <td>3</td>\n",
              "      <td>01/04/2017</td>\n",
              "      <td>29134.3</td>\n",
              "      <td>27045.9</td>\n",
              "      <td>29134272.22</td>\n",
              "      <td>28827479.49</td>\n",
              "      <td>306792.733</td>\n",
              "      <td>29134272.22</td>\n",
              "      <td>1.031263e+07</td>\n",
              "      <td>7454251.800</td>\n",
              "      <td>...</td>\n",
              "      <td>8211244.093</td>\n",
              "      <td>1.132396e+06</td>\n",
              "      <td>3257140.159</td>\n",
              "      <td>3006158.760</td>\n",
              "      <td>1.037213e+06</td>\n",
              "      <td>359694.4537</td>\n",
              "      <td>4355706.646</td>\n",
              "      <td>838948.2458</td>\n",
              "      <td>1535726.345</td>\n",
              "      <td>2146755.887</td>\n",
              "    </tr>\n",
              "    <tr>\n",
              "      <th>4</th>\n",
              "      <td>4</td>\n",
              "      <td>01/05/2017</td>\n",
              "      <td>27969.0</td>\n",
              "      <td>25631.9</td>\n",
              "      <td>27969004.68</td>\n",
              "      <td>27569311.41</td>\n",
              "      <td>399693.262</td>\n",
              "      <td>27969004.68</td>\n",
              "      <td>1.014761e+07</td>\n",
              "      <td>6735747.319</td>\n",
              "      <td>...</td>\n",
              "      <td>7651058.084</td>\n",
              "      <td>1.033082e+06</td>\n",
              "      <td>3232635.767</td>\n",
              "      <td>2799142.123</td>\n",
              "      <td>9.826512e+05</td>\n",
              "      <td>336568.0085</td>\n",
              "      <td>4206101.605</td>\n",
              "      <td>915895.1498</td>\n",
              "      <td>1824462.036</td>\n",
              "      <td>2117971.483</td>\n",
              "    </tr>\n",
              "  </tbody>\n",
              "</table>\n",
              "<p>5 rows × 25 columns</p>\n",
              "</div>\n",
              "    <div class=\"colab-df-buttons\">\n",
              "\n",
              "  <div class=\"colab-df-container\">\n",
              "    <button class=\"colab-df-convert\" onclick=\"convertToInteractive('df-7f3ecf26-df20-4153-94a0-d1ad5dd2ccac')\"\n",
              "            title=\"Convert this dataframe to an interactive table.\"\n",
              "            style=\"display:none;\">\n",
              "\n",
              "  <svg xmlns=\"http://www.w3.org/2000/svg\" height=\"24px\" viewBox=\"0 -960 960 960\">\n",
              "    <path d=\"M120-120v-720h720v720H120Zm60-500h600v-160H180v160Zm220 220h160v-160H400v160Zm0 220h160v-160H400v160ZM180-400h160v-160H180v160Zm440 0h160v-160H620v160ZM180-180h160v-160H180v160Zm440 0h160v-160H620v160Z\"/>\n",
              "  </svg>\n",
              "    </button>\n",
              "\n",
              "  <style>\n",
              "    .colab-df-container {\n",
              "      display:flex;\n",
              "      gap: 12px;\n",
              "    }\n",
              "\n",
              "    .colab-df-convert {\n",
              "      background-color: #E8F0FE;\n",
              "      border: none;\n",
              "      border-radius: 50%;\n",
              "      cursor: pointer;\n",
              "      display: none;\n",
              "      fill: #1967D2;\n",
              "      height: 32px;\n",
              "      padding: 0 0 0 0;\n",
              "      width: 32px;\n",
              "    }\n",
              "\n",
              "    .colab-df-convert:hover {\n",
              "      background-color: #E2EBFA;\n",
              "      box-shadow: 0px 1px 2px rgba(60, 64, 67, 0.3), 0px 1px 3px 1px rgba(60, 64, 67, 0.15);\n",
              "      fill: #174EA6;\n",
              "    }\n",
              "\n",
              "    .colab-df-buttons div {\n",
              "      margin-bottom: 4px;\n",
              "    }\n",
              "\n",
              "    [theme=dark] .colab-df-convert {\n",
              "      background-color: #3B4455;\n",
              "      fill: #D2E3FC;\n",
              "    }\n",
              "\n",
              "    [theme=dark] .colab-df-convert:hover {\n",
              "      background-color: #434B5C;\n",
              "      box-shadow: 0px 1px 3px 1px rgba(0, 0, 0, 0.15);\n",
              "      filter: drop-shadow(0px 1px 2px rgba(0, 0, 0, 0.3));\n",
              "      fill: #FFFFFF;\n",
              "    }\n",
              "  </style>\n",
              "\n",
              "    <script>\n",
              "      const buttonEl =\n",
              "        document.querySelector('#df-7f3ecf26-df20-4153-94a0-d1ad5dd2ccac button.colab-df-convert');\n",
              "      buttonEl.style.display =\n",
              "        google.colab.kernel.accessAllowed ? 'block' : 'none';\n",
              "\n",
              "      async function convertToInteractive(key) {\n",
              "        const element = document.querySelector('#df-7f3ecf26-df20-4153-94a0-d1ad5dd2ccac');\n",
              "        const dataTable =\n",
              "          await google.colab.kernel.invokeFunction('convertToInteractive',\n",
              "                                                    [key], {});\n",
              "        if (!dataTable) return;\n",
              "\n",
              "        const docLinkHtml = 'Like what you see? Visit the ' +\n",
              "          '<a target=\"_blank\" href=https://colab.research.google.com/notebooks/data_table.ipynb>data table notebook</a>'\n",
              "          + ' to learn more about interactive tables.';\n",
              "        element.innerHTML = '';\n",
              "        dataTable['output_type'] = 'display_data';\n",
              "        await google.colab.output.renderOutput(dataTable, element);\n",
              "        const docLink = document.createElement('div');\n",
              "        docLink.innerHTML = docLinkHtml;\n",
              "        element.appendChild(docLink);\n",
              "      }\n",
              "    </script>\n",
              "  </div>\n",
              "\n",
              "\n",
              "<div id=\"df-b8baa613-af53-4dfd-8542-d4f2d8639a41\">\n",
              "  <button class=\"colab-df-quickchart\" onclick=\"quickchart('df-b8baa613-af53-4dfd-8542-d4f2d8639a41')\"\n",
              "            title=\"Suggest charts.\"\n",
              "            style=\"display:none;\">\n",
              "\n",
              "<svg xmlns=\"http://www.w3.org/2000/svg\" height=\"24px\"viewBox=\"0 0 24 24\"\n",
              "     width=\"24px\">\n",
              "    <g>\n",
              "        <path d=\"M19 3H5c-1.1 0-2 .9-2 2v14c0 1.1.9 2 2 2h14c1.1 0 2-.9 2-2V5c0-1.1-.9-2-2-2zM9 17H7v-7h2v7zm4 0h-2V7h2v10zm4 0h-2v-4h2v4z\"/>\n",
              "    </g>\n",
              "</svg>\n",
              "  </button>\n",
              "\n",
              "<style>\n",
              "  .colab-df-quickchart {\n",
              "      --bg-color: #E8F0FE;\n",
              "      --fill-color: #1967D2;\n",
              "      --hover-bg-color: #E2EBFA;\n",
              "      --hover-fill-color: #174EA6;\n",
              "      --disabled-fill-color: #AAA;\n",
              "      --disabled-bg-color: #DDD;\n",
              "  }\n",
              "\n",
              "  [theme=dark] .colab-df-quickchart {\n",
              "      --bg-color: #3B4455;\n",
              "      --fill-color: #D2E3FC;\n",
              "      --hover-bg-color: #434B5C;\n",
              "      --hover-fill-color: #FFFFFF;\n",
              "      --disabled-bg-color: #3B4455;\n",
              "      --disabled-fill-color: #666;\n",
              "  }\n",
              "\n",
              "  .colab-df-quickchart {\n",
              "    background-color: var(--bg-color);\n",
              "    border: none;\n",
              "    border-radius: 50%;\n",
              "    cursor: pointer;\n",
              "    display: none;\n",
              "    fill: var(--fill-color);\n",
              "    height: 32px;\n",
              "    padding: 0;\n",
              "    width: 32px;\n",
              "  }\n",
              "\n",
              "  .colab-df-quickchart:hover {\n",
              "    background-color: var(--hover-bg-color);\n",
              "    box-shadow: 0 1px 2px rgba(60, 64, 67, 0.3), 0 1px 3px 1px rgba(60, 64, 67, 0.15);\n",
              "    fill: var(--button-hover-fill-color);\n",
              "  }\n",
              "\n",
              "  .colab-df-quickchart-complete:disabled,\n",
              "  .colab-df-quickchart-complete:disabled:hover {\n",
              "    background-color: var(--disabled-bg-color);\n",
              "    fill: var(--disabled-fill-color);\n",
              "    box-shadow: none;\n",
              "  }\n",
              "\n",
              "  .colab-df-spinner {\n",
              "    border: 2px solid var(--fill-color);\n",
              "    border-color: transparent;\n",
              "    border-bottom-color: var(--fill-color);\n",
              "    animation:\n",
              "      spin 1s steps(1) infinite;\n",
              "  }\n",
              "\n",
              "  @keyframes spin {\n",
              "    0% {\n",
              "      border-color: transparent;\n",
              "      border-bottom-color: var(--fill-color);\n",
              "      border-left-color: var(--fill-color);\n",
              "    }\n",
              "    20% {\n",
              "      border-color: transparent;\n",
              "      border-left-color: var(--fill-color);\n",
              "      border-top-color: var(--fill-color);\n",
              "    }\n",
              "    30% {\n",
              "      border-color: transparent;\n",
              "      border-left-color: var(--fill-color);\n",
              "      border-top-color: var(--fill-color);\n",
              "      border-right-color: var(--fill-color);\n",
              "    }\n",
              "    40% {\n",
              "      border-color: transparent;\n",
              "      border-right-color: var(--fill-color);\n",
              "      border-top-color: var(--fill-color);\n",
              "    }\n",
              "    60% {\n",
              "      border-color: transparent;\n",
              "      border-right-color: var(--fill-color);\n",
              "    }\n",
              "    80% {\n",
              "      border-color: transparent;\n",
              "      border-right-color: var(--fill-color);\n",
              "      border-bottom-color: var(--fill-color);\n",
              "    }\n",
              "    90% {\n",
              "      border-color: transparent;\n",
              "      border-bottom-color: var(--fill-color);\n",
              "    }\n",
              "  }\n",
              "</style>\n",
              "\n",
              "  <script>\n",
              "    async function quickchart(key) {\n",
              "      const quickchartButtonEl =\n",
              "        document.querySelector('#' + key + ' button');\n",
              "      quickchartButtonEl.disabled = true;  // To prevent multiple clicks.\n",
              "      quickchartButtonEl.classList.add('colab-df-spinner');\n",
              "      try {\n",
              "        const charts = await google.colab.kernel.invokeFunction(\n",
              "            'suggestCharts', [key], {});\n",
              "      } catch (error) {\n",
              "        console.error('Error during call to suggestCharts:', error);\n",
              "      }\n",
              "      quickchartButtonEl.classList.remove('colab-df-spinner');\n",
              "      quickchartButtonEl.classList.add('colab-df-quickchart-complete');\n",
              "    }\n",
              "    (() => {\n",
              "      let quickchartButtonEl =\n",
              "        document.querySelector('#df-b8baa613-af53-4dfd-8542-d4f2d8639a41 button');\n",
              "      quickchartButtonEl.style.display =\n",
              "        google.colab.kernel.accessAllowed ? 'block' : 'none';\n",
              "    })();\n",
              "  </script>\n",
              "</div>\n",
              "    </div>\n",
              "  </div>\n"
            ]
          },
          "metadata": {},
          "execution_count": 4
        }
      ]
    },
    {
      "cell_type": "code",
      "source": [
        "#IDENTIFICAR VALORES NULOS\n",
        "valores_nulos=df.isnull().sum()\n",
        "valores_nulos"
      ],
      "metadata": {
        "id": "UIgp8_HQVMSU"
      },
      "execution_count": null,
      "outputs": []
    },
    {
      "cell_type": "code",
      "source": [
        "#COLUMNA: indumentaria_calzado_textiles_hogar\n",
        "#SUSTITUIR VALOES NULOS POR VALORES NO NULOS HACIA ATRAS \"BACKWARD FILL (\"bfill\")\"\n",
        "#FILTRO POR COLUMNAS\n",
        "df[\"indumentaria_calzado_textiles_hogar\"]=df[\"indumentaria_calzado_textiles_hogar\"].fillna(method=\"bfill\")"
      ],
      "metadata": {
        "id": "F-aw3aPOVg6a"
      },
      "execution_count": 6,
      "outputs": []
    },
    {
      "cell_type": "code",
      "source": [
        "#IDENTIFICAR VALORES NULOS\n",
        "valores_nulos=df.isnull().sum()\n",
        "valores_nulos"
      ],
      "metadata": {
        "id": "1EiaP19yVtof"
      },
      "execution_count": null,
      "outputs": []
    },
    {
      "cell_type": "code",
      "source": [
        "#REALIZAR UNA COPIA DEL DATAFRAME\n",
        "df1=df.copy()"
      ],
      "metadata": {
        "id": "tIWy3SZ0XS-_"
      },
      "execution_count": 9,
      "outputs": []
    },
    {
      "cell_type": "markdown",
      "source": [
        "**COLUMNA: salon_ventas**"
      ],
      "metadata": {
        "id": "J3PS1QhOW93f"
      }
    },
    {
      "cell_type": "code",
      "source": [
        "#HISTOGRAMA DE CAJA O BIGOTE\n",
        "fig = plt.figure(figsize=(4,3))\n",
        "plt.boxplot(x=df1[\"salon_ventas\"])\n",
        "plt.title('Outliers Salon Ventas')\n",
        "\n",
        "#DIBUJAR EL DIAGRAMA\n",
        "plt.show()\n",
        "\n",
        "#RESULTADO: SE IDENTIFICAN OUTLIERS"
      ],
      "metadata": {
        "colab": {
          "base_uri": "https://localhost:8080/",
          "height": 314
        },
        "id": "DvwcrrSYXIso",
        "outputId": "a2ff44da-c584-4103-9074-8144f6932d69"
      },
      "execution_count": 18,
      "outputs": [
        {
          "output_type": "display_data",
          "data": {
            "text/plain": [
              "<Figure size 400x300 with 1 Axes>"
            ],
            "image/png": "[encoded data removed]"
          },
          "metadata": {}
        }
      ]
    },
    {
      "cell_type": "code",
      "source": [
        "#METODO APLICANDO CUARTILES | ENCUENTRO CUARTILES 0.25 Y 0.75\n",
        "y=df1[\"salon_ventas\"]\n",
        "\n",
        "percentile25=y.quantile(0.25) #Q1\n",
        "percentile75=y.quantile(0.75) #Q3\n",
        "iqr=percentile75 - percentile25\n",
        "\n",
        "Limite_Superior_1 =percentile75 + 1.5*iqr\n",
        "Limite_Inferior_1 =percentile25 - 1.5*iqr\n",
        "\n",
        "print(\"Limite superioir permitido\",Limite_Superior_1)\n",
        "print(\"Limite inferioir permitido\",Limite_Inferior_1)"
      ],
      "metadata": {
        "colab": {
          "base_uri": "https://localhost:8080/"
        },
        "id": "LYxR8iX7XxBX",
        "outputId": "06645f84-de72-4ada-ebd3-39d0ca792d9f"
      },
      "execution_count": 30,
      "outputs": [
        {
          "output_type": "stream",
          "name": "stdout",
          "text": [
            "Limite superioir permitido 170440082.58499998\n",
            "Limite inferioir permitido -32001350.254999995\n"
          ]
        }
      ]
    },
    {
      "cell_type": "code",
      "source": [
        "#ENCONTRAR OUTLIERS\n",
        "outliers_iqr =df1[(y>Limite_Superior_1)|(y<Limite_Inferior_1)]\n",
        "outliers_iqr"
      ],
      "metadata": {
        "colab": {
          "base_uri": "https://localhost:8080/",
          "height": 210
        },
        "id": "cxp5d3JLX7UC",
        "outputId": "3de3851a-6560-427c-8afe-316153923d84"
      },
      "execution_count": 31,
      "outputs": [
        {
          "output_type": "execute_result",
          "data": {
            "text/plain": [
              "    Unnamed: 0 indice_tiempo  ventas_precios_corrientes  \\\n",
              "59          59    01/12/2021                   183983.2   \n",
              "63          63    01/04/2022                   177148.1   \n",
              "64          64    01/05/2022                   179639.2   \n",
              "\n",
              "    ventas_precios_constantes  ventas_totales_canal_venta  salon_ventas  \\\n",
              "59                    31595.7                 183983151.9   178866721.2   \n",
              "63                    24140.5                 177148082.8   173003799.1   \n",
              "64                    23234.2                 179639238.6   175358487.5   \n",
              "\n",
              "    canales_on_line  ventas_totales_medio_pago     efectivo  tarjetas_debito  \\\n",
              "59      5116430.634                183983151.9  56640033.15      55432191.37   \n",
              "63      4144283.743                177148082.8  53189998.68      50063972.79   \n",
              "64      4280751.113                179639238.6  52738110.62      49886787.86   \n",
              "\n",
              "    ...      almacen    panaderia      lacteos       carnes  \\\n",
              "59  ...  45199914.72  5859939.041  16275221.46  21265049.45   \n",
              "63  ...  49991675.91  6746166.557  19309461.59  22877841.24   \n",
              "64  ...  50150351.46  6667329.665  20121124.43  22841532.85   \n",
              "\n",
              "    verduleria_fruteria  alimentos_preparados_rotiseria  \\\n",
              "59          5863700.608                     1679028.685   \n",
              "63          6510665.781                     1719458.547   \n",
              "64          6314109.470                     1779482.857   \n",
              "\n",
              "    articulos_limpieza_perfumeria  indumentaria_calzado_textiles_hogar  \\\n",
              "59                    21753939.73                          4759532.634   \n",
              "63                    23131265.85                          4228053.874   \n",
              "64                    23578638.71                          5213152.564   \n",
              "\n",
              "    electronicos_articulos_hogar        otros  \n",
              "59                   12669269.76  16665123.15  \n",
              "63                    3215054.70  11910475.62  \n",
              "64                   12039595.55  12349980.06  \n",
              "\n",
              "[3 rows x 25 columns]"
            ],
            "text/html": [
              "\n",
              "  <div id=\"df-0f461722-cfa4-46ab-b80d-93b9ca7aa713\" class=\"colab-df-container\">\n",
              "    <div>\n",
              "<style scoped>\n",
              "    .dataframe tbody tr th:only-of-type {\n",
              "        vertical-align: middle;\n",
              "    }\n",
              "\n",
              "    .dataframe tbody tr th {\n",
              "        vertical-align: top;\n",
              "    }\n",
              "\n",
              "    .dataframe thead th {\n",
              "        text-align: right;\n",
              "    }\n",
              "</style>\n",
              "<table border=\"1\" class=\"dataframe\">\n",
              "  <thead>\n",
              "    <tr style=\"text-align: right;\">\n",
              "      <th></th>\n",
              "      <th>Unnamed: 0</th>\n",
              "      <th>indice_tiempo</th>\n",
              "      <th>ventas_precios_corrientes</th>\n",
              "      <th>ventas_precios_constantes</th>\n",
              "      <th>ventas_totales_canal_venta</th>\n",
              "      <th>salon_ventas</th>\n",
              "      <th>canales_on_line</th>\n",
              "      <th>ventas_totales_medio_pago</th>\n",
              "      <th>efectivo</th>\n",
              "      <th>tarjetas_debito</th>\n",
              "      <th>...</th>\n",
              "      <th>almacen</th>\n",
              "      <th>panaderia</th>\n",
              "      <th>lacteos</th>\n",
              "      <th>carnes</th>\n",
              "      <th>verduleria_fruteria</th>\n",
              "      <th>alimentos_preparados_rotiseria</th>\n",
              "      <th>articulos_limpieza_perfumeria</th>\n",
              "      <th>indumentaria_calzado_textiles_hogar</th>\n",
              "      <th>electronicos_articulos_hogar</th>\n",
              "      <th>otros</th>\n",
              "    </tr>\n",
              "  </thead>\n",
              "  <tbody>\n",
              "    <tr>\n",
              "      <th>59</th>\n",
              "      <td>59</td>\n",
              "      <td>01/12/2021</td>\n",
              "      <td>183983.2</td>\n",
              "      <td>31595.7</td>\n",
              "      <td>183983151.9</td>\n",
              "      <td>178866721.2</td>\n",
              "      <td>5116430.634</td>\n",
              "      <td>183983151.9</td>\n",
              "      <td>56640033.15</td>\n",
              "      <td>55432191.37</td>\n",
              "      <td>...</td>\n",
              "      <td>45199914.72</td>\n",
              "      <td>5859939.041</td>\n",
              "      <td>16275221.46</td>\n",
              "      <td>21265049.45</td>\n",
              "      <td>5863700.608</td>\n",
              "      <td>1679028.685</td>\n",
              "      <td>21753939.73</td>\n",
              "      <td>4759532.634</td>\n",
              "      <td>12669269.76</td>\n",
              "      <td>16665123.15</td>\n",
              "    </tr>\n",
              "    <tr>\n",
              "      <th>63</th>\n",
              "      <td>63</td>\n",
              "      <td>01/04/2022</td>\n",
              "      <td>177148.1</td>\n",
              "      <td>24140.5</td>\n",
              "      <td>177148082.8</td>\n",
              "      <td>173003799.1</td>\n",
              "      <td>4144283.743</td>\n",
              "      <td>177148082.8</td>\n",
              "      <td>53189998.68</td>\n",
              "      <td>50063972.79</td>\n",
              "      <td>...</td>\n",
              "      <td>49991675.91</td>\n",
              "      <td>6746166.557</td>\n",
              "      <td>19309461.59</td>\n",
              "      <td>22877841.24</td>\n",
              "      <td>6510665.781</td>\n",
              "      <td>1719458.547</td>\n",
              "      <td>23131265.85</td>\n",
              "      <td>4228053.874</td>\n",
              "      <td>3215054.70</td>\n",
              "      <td>11910475.62</td>\n",
              "    </tr>\n",
              "    <tr>\n",
              "      <th>64</th>\n",
              "      <td>64</td>\n",
              "      <td>01/05/2022</td>\n",
              "      <td>179639.2</td>\n",
              "      <td>23234.2</td>\n",
              "      <td>179639238.6</td>\n",
              "      <td>175358487.5</td>\n",
              "      <td>4280751.113</td>\n",
              "      <td>179639238.6</td>\n",
              "      <td>52738110.62</td>\n",
              "      <td>49886787.86</td>\n",
              "      <td>...</td>\n",
              "      <td>50150351.46</td>\n",
              "      <td>6667329.665</td>\n",
              "      <td>20121124.43</td>\n",
              "      <td>22841532.85</td>\n",
              "      <td>6314109.470</td>\n",
              "      <td>1779482.857</td>\n",
              "      <td>23578638.71</td>\n",
              "      <td>5213152.564</td>\n",
              "      <td>12039595.55</td>\n",
              "      <td>12349980.06</td>\n",
              "    </tr>\n",
              "  </tbody>\n",
              "</table>\n",
              "<p>3 rows × 25 columns</p>\n",
              "</div>\n",
              "    <div class=\"colab-df-buttons\">\n",
              "\n",
              "  <div class=\"colab-df-container\">\n",
              "    <button class=\"colab-df-convert\" onclick=\"convertToInteractive('df-0f461722-cfa4-46ab-b80d-93b9ca7aa713')\"\n",
              "            title=\"Convert this dataframe to an interactive table.\"\n",
              "            style=\"display:none;\">\n",
              "\n",
              "  <svg xmlns=\"http://www.w3.org/2000/svg\" height=\"24px\" viewBox=\"0 -960 960 960\">\n",
              "    <path d=\"M120-120v-720h720v720H120Zm60-500h600v-160H180v160Zm220 220h160v-160H400v160Zm0 220h160v-160H400v160ZM180-400h160v-160H180v160Zm440 0h160v-160H620v160ZM180-180h160v-160H180v160Zm440 0h160v-160H620v160Z\"/>\n",
              "  </svg>\n",
              "    </button>\n",
              "\n",
              "  <style>\n",
              "    .colab-df-container {\n",
              "      display:flex;\n",
              "      gap: 12px;\n",
              "    }\n",
              "\n",
              "    .colab-df-convert {\n",
              "      background-color: #E8F0FE;\n",
              "      border: none;\n",
              "      border-radius: 50%;\n",
              "      cursor: pointer;\n",
              "      display: none;\n",
              "      fill: #1967D2;\n",
              "      height: 32px;\n",
              "      padding: 0 0 0 0;\n",
              "      width: 32px;\n",
              "    }\n",
              "\n",
              "    .colab-df-convert:hover {\n",
              "      background-color: #E2EBFA;\n",
              "      box-shadow: 0px 1px 2px rgba(60, 64, 67, 0.3), 0px 1px 3px 1px rgba(60, 64, 67, 0.15);\n",
              "      fill: #174EA6;\n",
              "    }\n",
              "\n",
              "    .colab-df-buttons div {\n",
              "      margin-bottom: 4px;\n",
              "    }\n",
              "\n",
              "    [theme=dark] .colab-df-convert {\n",
              "      background-color: #3B4455;\n",
              "      fill: #D2E3FC;\n",
              "    }\n",
              "\n",
              "    [theme=dark] .colab-df-convert:hover {\n",
              "      background-color: #434B5C;\n",
              "      box-shadow: 0px 1px 3px 1px rgba(0, 0, 0, 0.15);\n",
              "      filter: drop-shadow(0px 1px 2px rgba(0, 0, 0, 0.3));\n",
              "      fill: #FFFFFF;\n",
              "    }\n",
              "  </style>\n",
              "\n",
              "    <script>\n",
              "      const buttonEl =\n",
              "        document.querySelector('#df-0f461722-cfa4-46ab-b80d-93b9ca7aa713 button.colab-df-convert');\n",
              "      buttonEl.style.display =\n",
              "        google.colab.kernel.accessAllowed ? 'block' : 'none';\n",
              "\n",
              "      async function convertToInteractive(key) {\n",
              "        const element = document.querySelector('#df-0f461722-cfa4-46ab-b80d-93b9ca7aa713');\n",
              "        const dataTable =\n",
              "          await google.colab.kernel.invokeFunction('convertToInteractive',\n",
              "                                                    [key], {});\n",
              "        if (!dataTable) return;\n",
              "\n",
              "        const docLinkHtml = 'Like what you see? Visit the ' +\n",
              "          '<a target=\"_blank\" href=https://colab.research.google.com/notebooks/data_table.ipynb>data table notebook</a>'\n",
              "          + ' to learn more about interactive tables.';\n",
              "        element.innerHTML = '';\n",
              "        dataTable['output_type'] = 'display_data';\n",
              "        await google.colab.output.renderOutput(dataTable, element);\n",
              "        const docLink = document.createElement('div');\n",
              "        docLink.innerHTML = docLinkHtml;\n",
              "        element.appendChild(docLink);\n",
              "      }\n",
              "    </script>\n",
              "  </div>\n",
              "\n",
              "\n",
              "<div id=\"df-03096c08-7e30-4fa1-8c45-4e44b55cffef\">\n",
              "  <button class=\"colab-df-quickchart\" onclick=\"quickchart('df-03096c08-7e30-4fa1-8c45-4e44b55cffef')\"\n",
              "            title=\"Suggest charts.\"\n",
              "            style=\"display:none;\">\n",
              "\n",
              "<svg xmlns=\"http://www.w3.org/2000/svg\" height=\"24px\"viewBox=\"0 0 24 24\"\n",
              "     width=\"24px\">\n",
              "    <g>\n",
              "        <path d=\"M19 3H5c-1.1 0-2 .9-2 2v14c0 1.1.9 2 2 2h14c1.1 0 2-.9 2-2V5c0-1.1-.9-2-2-2zM9 17H7v-7h2v7zm4 0h-2V7h2v10zm4 0h-2v-4h2v4z\"/>\n",
              "    </g>\n",
              "</svg>\n",
              "  </button>\n",
              "\n",
              "<style>\n",
              "  .colab-df-quickchart {\n",
              "      --bg-color: #E8F0FE;\n",
              "      --fill-color: #1967D2;\n",
              "      --hover-bg-color: #E2EBFA;\n",
              "      --hover-fill-color: #174EA6;\n",
              "      --disabled-fill-color: #AAA;\n",
              "      --disabled-bg-color: #DDD;\n",
              "  }\n",
              "\n",
              "  [theme=dark] .colab-df-quickchart {\n",
              "      --bg-color: #3B4455;\n",
              "      --fill-color: #D2E3FC;\n",
              "      --hover-bg-color: #434B5C;\n",
              "      --hover-fill-color: #FFFFFF;\n",
              "      --disabled-bg-color: #3B4455;\n",
              "      --disabled-fill-color: #666;\n",
              "  }\n",
              "\n",
              "  .colab-df-quickchart {\n",
              "    background-color: var(--bg-color);\n",
              "    border: none;\n",
              "    border-radius: 50%;\n",
              "    cursor: pointer;\n",
              "    display: none;\n",
              "    fill: var(--fill-color);\n",
              "    height: 32px;\n",
              "    padding: 0;\n",
              "    width: 32px;\n",
              "  }\n",
              "\n",
              "  .colab-df-quickchart:hover {\n",
              "    background-color: var(--hover-bg-color);\n",
              "    box-shadow: 0 1px 2px rgba(60, 64, 67, 0.3), 0 1px 3px 1px rgba(60, 64, 67, 0.15);\n",
              "    fill: var(--button-hover-fill-color);\n",
              "  }\n",
              "\n",
              "  .colab-df-quickchart-complete:disabled,\n",
              "  .colab-df-quickchart-complete:disabled:hover {\n",
              "    background-color: var(--disabled-bg-color);\n",
              "    fill: var(--disabled-fill-color);\n",
              "    box-shadow: none;\n",
              "  }\n",
              "\n",
              "  .colab-df-spinner {\n",
              "    border: 2px solid var(--fill-color);\n",
              "    border-color: transparent;\n",
              "    border-bottom-color: var(--fill-color);\n",
              "    animation:\n",
              "      spin 1s steps(1) infinite;\n",
              "  }\n",
              "\n",
              "  @keyframes spin {\n",
              "    0% {\n",
              "      border-color: transparent;\n",
              "      border-bottom-color: var(--fill-color);\n",
              "      border-left-color: var(--fill-color);\n",
              "    }\n",
              "    20% {\n",
              "      border-color: transparent;\n",
              "      border-left-color: var(--fill-color);\n",
              "      border-top-color: var(--fill-color);\n",
              "    }\n",
              "    30% {\n",
              "      border-color: transparent;\n",
              "      border-left-color: var(--fill-color);\n",
              "      border-top-color: var(--fill-color);\n",
              "      border-right-color: var(--fill-color);\n",
              "    }\n",
              "    40% {\n",
              "      border-color: transparent;\n",
              "      border-right-color: var(--fill-color);\n",
              "      border-top-color: var(--fill-color);\n",
              "    }\n",
              "    60% {\n",
              "      border-color: transparent;\n",
              "      border-right-color: var(--fill-color);\n",
              "    }\n",
              "    80% {\n",
              "      border-color: transparent;\n",
              "      border-right-color: var(--fill-color);\n",
              "      border-bottom-color: var(--fill-color);\n",
              "    }\n",
              "    90% {\n",
              "      border-color: transparent;\n",
              "      border-bottom-color: var(--fill-color);\n",
              "    }\n",
              "  }\n",
              "</style>\n",
              "\n",
              "  <script>\n",
              "    async function quickchart(key) {\n",
              "      const quickchartButtonEl =\n",
              "        document.querySelector('#' + key + ' button');\n",
              "      quickchartButtonEl.disabled = true;  // To prevent multiple clicks.\n",
              "      quickchartButtonEl.classList.add('colab-df-spinner');\n",
              "      try {\n",
              "        const charts = await google.colab.kernel.invokeFunction(\n",
              "            'suggestCharts', [key], {});\n",
              "      } catch (error) {\n",
              "        console.error('Error during call to suggestCharts:', error);\n",
              "      }\n",
              "      quickchartButtonEl.classList.remove('colab-df-spinner');\n",
              "      quickchartButtonEl.classList.add('colab-df-quickchart-complete');\n",
              "    }\n",
              "    (() => {\n",
              "      let quickchartButtonEl =\n",
              "        document.querySelector('#df-03096c08-7e30-4fa1-8c45-4e44b55cffef button');\n",
              "      quickchartButtonEl.style.display =\n",
              "        google.colab.kernel.accessAllowed ? 'block' : 'none';\n",
              "    })();\n",
              "  </script>\n",
              "</div>\n",
              "    </div>\n",
              "  </div>\n"
            ]
          },
          "metadata": {},
          "execution_count": 31
        }
      ]
    },
    {
      "cell_type": "code",
      "source": [
        "#OBTENER DATOS LIMPIOS\n",
        "data_clean_salon_ventas=df1[(y<=Limite_Superior_1)&(y>=Limite_Inferior_1)]\n",
        "#Nota: los outliers los elimina"
      ],
      "metadata": {
        "id": "1gKddqo5YSXu"
      },
      "execution_count": 32,
      "outputs": []
    },
    {
      "cell_type": "code",
      "source": [
        "#HISTOGRAMA DE CAJA O BIGOTE\n",
        "fig = plt.figure(figsize=(4,3))\n",
        "plt.boxplot(x=data_clean_salon_ventas[\"salon_ventas\"])\n",
        "plt.title('Outliers Salon Ventas')\n",
        "\n",
        "#DIBUJAR EL DIAGRAMA\n",
        "plt.show()\n",
        "\n",
        "#RESULTADO: APARECE UNO NUEVO PORQUE SE RECALCULAN LOS LIMITES\n",
        "#NOTA: SOLO SE HACE UNA VEZ ESTE METODO"
      ],
      "metadata": {
        "colab": {
          "base_uri": "https://localhost:8080/",
          "height": 314
        },
        "id": "bi__iN3aYWM2",
        "outputId": "e78eed7f-5b62-4c1f-8af2-8f643ea0eb52"
      },
      "execution_count": 33,
      "outputs": [
        {
          "output_type": "display_data",
          "data": {
            "text/plain": [
              "<Figure size 400x300 with 1 Axes>"
            ],
            "image/png": "[encoded data removed]"
          },
          "metadata": {}
        }
      ]
    },
    {
      "cell_type": "markdown",
      "source": [
        "**COLUMNA: Tarjeta Debito**"
      ],
      "metadata": {
        "id": "ESf2XOiZZj1A"
      }
    },
    {
      "cell_type": "code",
      "source": [
        "#HISTOGRAMA DE CAJA O BIGOTE\n",
        "fig = plt.figure(figsize=(4,3))\n",
        "plt.boxplot(x=df1[\"tarjetas_debito\"])\n",
        "plt.title('Outliers Tarjetas Debito')\n",
        "\n",
        "#DIBUJAR EL DIAGRAMA\n",
        "plt.show()\n",
        "\n",
        "#RESULTADO: SE IDENTIFICAN OUTLIERS"
      ],
      "metadata": {
        "colab": {
          "base_uri": "https://localhost:8080/",
          "height": 314
        },
        "id": "v9bkuWWEZo0h",
        "outputId": "854fb02d-1c5a-416c-a045-1062e571d6ef"
      },
      "execution_count": 34,
      "outputs": [
        {
          "output_type": "display_data",
          "data": {
            "text/plain": [
              "<Figure size 400x300 with 1 Axes>"
            ],
            "image/png": "[encoded data removed]"
          },
          "metadata": {}
        }
      ]
    },
    {
      "cell_type": "code",
      "source": [
        "#METODO APLICANDO CUARTILES | ENCUENTRO CUARTILES 0.25 Y 0.75\n",
        "y=df1[\"tarjetas_debito\"]\n",
        "\n",
        "percentile25=y.quantile(0.25) #Q1\n",
        "percentile75=y.quantile(0.75) #Q3\n",
        "iqr=percentile75 - percentile25\n",
        "\n",
        "Limite_Superior_2 =percentile75 + 1.5*iqr\n",
        "Limite_Inferior_2 =percentile25 - 1.5*iqr\n",
        "\n",
        "print(\"Limite superioir permitido\",Limite_Superior_2)\n",
        "print(\"Limite inferioir permitido\",Limite_Inferior_2)\n",
        "\n",
        "\n",
        "#ENCONTRAR OUTLIERS\n",
        "outliers_2 =df1[(y>Limite_Superior_2)|(y<Limite_Inferior_2)]\n",
        "outliers_2\n",
        "\n",
        "\n",
        "#OBTENER DATOS LIMPIOS\n",
        "data_clean_tarjetas_debito=df1[(y<=Limite_Superior_2)&(y>=Limite_Inferior_2)]\n",
        "#Nota: los outliers los elimina"
      ],
      "metadata": {
        "colab": {
          "base_uri": "https://localhost:8080/"
        },
        "id": "YlN3zvlMa2M9",
        "outputId": "62d3ab3d-0212-4881-8c13-84efbddcbf63"
      },
      "execution_count": 84,
      "outputs": [
        {
          "output_type": "stream",
          "name": "stdout",
          "text": [
            "Limite superioir permitido 51933510.0585\n",
            "Limite inferioir permitido -15937937.1375\n"
          ]
        }
      ]
    },
    {
      "cell_type": "code",
      "source": [
        "#HISTOGRAMA DE CAJA O BIGOTE\n",
        "fig = plt.figure(figsize=(4,3))\n",
        "plt.boxplot(x=data_clean_tarjetas_debito[\"tarjetas_debito\"])\n",
        "plt.title('Outliers Tarjeta Debito')\n",
        "\n",
        "#DIBUJAR EL DIAGRAMA\n",
        "plt.show()\n",
        "\n",
        "#RESULTADO: Se eliminan"
      ],
      "metadata": {
        "colab": {
          "base_uri": "https://localhost:8080/",
          "height": 314
        },
        "id": "xY1a_p9SbZN4",
        "outputId": "8eb9ac59-3136-4d12-feca-9be97f645e80"
      },
      "execution_count": 49,
      "outputs": [
        {
          "output_type": "display_data",
          "data": {
            "text/plain": [
              "<Figure size 400x300 with 1 Axes>"
            ],
            "image/png": "[encoded data removed]"
          },
          "metadata": {}
        }
      ]
    },
    {
      "cell_type": "markdown",
      "source": [
        "**COLUMNA:Tarjetas Credito**"
      ],
      "metadata": {
        "id": "muirGjmUcVrV"
      }
    },
    {
      "cell_type": "code",
      "source": [
        "#HISTOGRAMA DE CAJA O BIGOTE\n",
        "fig = plt.figure(figsize=(4,3))\n",
        "plt.boxplot(x=df1[\"tarjetas_credito\"])\n",
        "plt.title('Outliers Tarjetas Credito')\n",
        "\n",
        "#DIBUJAR EL DIAGRAMA\n",
        "plt.show()\n",
        "\n",
        "#RESULTADO: SE IDENTIFICAN OUTLIERS"
      ],
      "metadata": {
        "colab": {
          "base_uri": "https://localhost:8080/",
          "height": 314
        },
        "id": "meDzynRzcQIZ",
        "outputId": "34aa532e-74e9-4570-ca24-26bd956f26f1"
      },
      "execution_count": 56,
      "outputs": [
        {
          "output_type": "display_data",
          "data": {
            "text/plain": [
              "<Figure size 400x300 with 1 Axes>"
            ],
            "image/png": "[encoded data removed]"
          },
          "metadata": {}
        }
      ]
    },
    {
      "cell_type": "code",
      "source": [
        "#METODO APLICANDO CUARTILES | ENCUENTRO CUARTILES 0.25 Y 0.75\n",
        "y=df1[\"tarjetas_credito\"]\n",
        "\n",
        "percentile25=y.quantile(0.25) #Q1\n",
        "percentile75=y.quantile(0.75) #Q3\n",
        "iqr=percentile75 - percentile25\n",
        "\n",
        "Limite_Superior_3 =percentile75 + 1.5*iqr\n",
        "Limite_Inferior_3 =percentile25 - 1.5*iqr\n",
        "\n",
        "print(\"Limite superioir permitido\",Limite_Superior_3)\n",
        "print(\"Limite inferioir permitido\",Limite_Inferior_3)\n",
        "\n",
        "\n",
        "#ENCONTRAR OUTLIERS\n",
        "outliers_3 =df1[(y>Limite_Superior_3)|(y<Limite_Inferior_3)]\n",
        "outliers_3\n",
        "\n",
        "\n",
        "#OBTENER DATOS LIMPIOS\n",
        "data_clean_tarjetas_credito=df1[(y<=Limite_Superior_3)&(y>=Limite_Inferior_3)]\n",
        "#Nota: los outliers los elimina"
      ],
      "metadata": {
        "colab": {
          "base_uri": "https://localhost:8080/"
        },
        "id": "bjn9U9lich_s",
        "outputId": "017eb974-6edc-4ea3-cb96-4ccd488b5f55"
      },
      "execution_count": 85,
      "outputs": [
        {
          "output_type": "stream",
          "name": "stdout",
          "text": [
            "Limite superioir permitido 63856184.05500001\n",
            "Limite inferioir permitido -16515482.225\n"
          ]
        }
      ]
    },
    {
      "cell_type": "code",
      "source": [
        "#HISTOGRAMA DE CAJA O BIGOTE\n",
        "fig = plt.figure(figsize=(4,3))\n",
        "plt.boxplot(x=data_clean_tarjetas_credito[\"tarjetas_credito\"])\n",
        "plt.title('Outliers Tarjeta Credito')\n",
        "\n",
        "#DIBUJAR EL DIAGRAMA\n",
        "plt.show()\n",
        "\n",
        "#RESULTADO: Se eliminan"
      ],
      "metadata": {
        "colab": {
          "base_uri": "https://localhost:8080/",
          "height": 314
        },
        "id": "Nfp0I9p0c_Vm",
        "outputId": "617b546c-72bf-4b38-9a36-95c0b6763a5e"
      },
      "execution_count": 57,
      "outputs": [
        {
          "output_type": "display_data",
          "data": {
            "text/plain": [
              "<Figure size 400x300 with 1 Axes>"
            ],
            "image/png": "[encoded data removed]"
          },
          "metadata": {}
        }
      ]
    },
    {
      "cell_type": "markdown",
      "source": [
        "**COLUMNA: BEBIDAS**"
      ],
      "metadata": {
        "id": "gi96hxR2dZwp"
      }
    },
    {
      "cell_type": "code",
      "source": [
        "#HISTOGRAMA DE CAJA O BIGOTE\n",
        "fig = plt.figure(figsize=(4,3))\n",
        "plt.boxplot(x=df1[\"bebidas\"])\n",
        "plt.title('Outliers Bebidas')\n",
        "\n",
        "#DIBUJAR EL DIAGRAMA\n",
        "plt.show()\n",
        "\n",
        "#RESULTADO: SE IDENTIFICAN OUTLIERS"
      ],
      "metadata": {
        "colab": {
          "base_uri": "https://localhost:8080/",
          "height": 314
        },
        "id": "uQN8-KmZdSph",
        "outputId": "94952cd7-c7cc-40aa-e5df-5c2b02b82318"
      },
      "execution_count": 58,
      "outputs": [
        {
          "output_type": "display_data",
          "data": {
            "text/plain": [
              "<Figure size 400x300 with 1 Axes>"
            ],
            "image/png": "[encoded data removed]"
          },
          "metadata": {}
        }
      ]
    },
    {
      "cell_type": "code",
      "source": [
        "#METODO APLICANDO CUARTILES | ENCUENTRO CUARTILES 0.25 Y 0.75\n",
        "y=df1[\"bebidas\"]\n",
        "\n",
        "percentile25=y.quantile(0.25) #Q1\n",
        "percentile75=y.quantile(0.75) #Q3\n",
        "iqr=percentile75 - percentile25\n",
        "\n",
        "Limite_Superior_4 =percentile75 + 1.5*iqr\n",
        "Limite_Inferior_4 =percentile25 - 1.5*iqr\n",
        "\n",
        "print(\"Limite superioir permitido\",Limite_Superior_4)\n",
        "print(\"Limite inferioir permitido\",Limite_Inferior_4)\n",
        "\n",
        "\n",
        "#ENCONTRAR OUTLIERS\n",
        "outliers_4 =df1[(y>Limite_Superior_4)|(y<Limite_Inferior_4)]\n",
        "outliers_4\n",
        "\n",
        "\n",
        "#OBTENER DATOS LIMPIOS\n",
        "data_clean_bebidas=df1[(y<=Limite_Superior_4)&(y>=Limite_Inferior_4)]\n",
        "#Nota: los outliers los elimina"
      ],
      "metadata": {
        "colab": {
          "base_uri": "https://localhost:8080/"
        },
        "id": "yGn6mW_FdfTb",
        "outputId": "7acc7ba8-5980-4ee4-cbbc-742dce9f3aa4"
      },
      "execution_count": 86,
      "outputs": [
        {
          "output_type": "stream",
          "name": "stdout",
          "text": [
            "Limite superioir permitido 23788205.776499998\n",
            "Limite inferioir permitido -7302449.5474999985\n"
          ]
        }
      ]
    },
    {
      "cell_type": "code",
      "source": [
        "#HISTOGRAMA DE CAJA O BIGOTE\n",
        "fig = plt.figure(figsize=(4,3))\n",
        "plt.boxplot(x=data_clean_bebidas[\"bebidas\"])\n",
        "plt.title('Outliers Bebidas')\n",
        "\n",
        "#DIBUJAR EL DIAGRAMA\n",
        "plt.show()\n",
        "\n",
        "#RESULTADO: Se eliminan"
      ],
      "metadata": {
        "colab": {
          "base_uri": "https://localhost:8080/",
          "height": 314
        },
        "id": "bQ7LLL7RdvVv",
        "outputId": "9efc7281-6e5c-46e6-e88a-7bfdcc19b359"
      },
      "execution_count": 62,
      "outputs": [
        {
          "output_type": "display_data",
          "data": {
            "text/plain": [
              "<Figure size 400x300 with 1 Axes>"
            ],
            "image/png": "[encoded data removed]"
          },
          "metadata": {}
        }
      ]
    },
    {
      "cell_type": "markdown",
      "source": [
        "**COLUMNA: PANADERIA**"
      ],
      "metadata": {
        "id": "FYiz2RCteEKI"
      }
    },
    {
      "cell_type": "code",
      "source": [
        "#HISTOGRAMA DE CAJA O BIGOTE\n",
        "fig = plt.figure(figsize=(4,3))\n",
        "plt.boxplot(x=df1[\"panaderia\"])\n",
        "plt.title('Outliers Panaderia')\n",
        "\n",
        "#DIBUJAR EL DIAGRAMA\n",
        "plt.show()\n",
        "\n",
        "#RESULTADO: SE IDENTIFICAN OUTLIERS"
      ],
      "metadata": {
        "colab": {
          "base_uri": "https://localhost:8080/",
          "height": 314
        },
        "id": "L7y3Ccbed8IY",
        "outputId": "20089a3f-c057-47b2-cac0-9baa3b79b67e"
      },
      "execution_count": 64,
      "outputs": [
        {
          "output_type": "display_data",
          "data": {
            "text/plain": [
              "<Figure size 400x300 with 1 Axes>"
            ],
            "image/png": "[encoded data removed]"
          },
          "metadata": {}
        }
      ]
    },
    {
      "cell_type": "code",
      "source": [
        "#METODO APLICANDO CUARTILES | ENCUENTRO CUARTILES 0.25 Y 0.75\n",
        "y=df1[\"panaderia\"]\n",
        "\n",
        "percentile25=y.quantile(0.25) #Q1\n",
        "percentile75=y.quantile(0.75) #Q3\n",
        "iqr=percentile75 - percentile25\n",
        "\n",
        "Limite_Superior_5 =percentile75 + 1.5*iqr\n",
        "Limite_Inferior_5 =percentile25 - 1.5*iqr\n",
        "\n",
        "print(\"Limite superioir permitido\",Limite_Superior_5)\n",
        "print(\"Limite inferioir permitido\",Limite_Inferior_5)\n",
        "\n",
        "\n",
        "#ENCONTRAR OUTLIERS\n",
        "outliers_5 =df1[(y>Limite_Superior_5)|(y<Limite_Inferior_5)]\n",
        "outliers_5\n",
        "\n",
        "\n",
        "#OBTENER DATOS LIMPIOS\n",
        "data_clean_panaderia=df1[(y<=Limite_Superior_5)&(y>=Limite_Inferior_5)]\n",
        "#Nota: los outliers los elimina"
      ],
      "metadata": {
        "colab": {
          "base_uri": "https://localhost:8080/"
        },
        "id": "XeXQFmS_eG9c",
        "outputId": "91c54f40-33ef-4e8e-f091-af6e82382f2b"
      },
      "execution_count": 67,
      "outputs": [
        {
          "output_type": "stream",
          "name": "stdout",
          "text": [
            "Limite superioir permitido 5344003.4675\n",
            "Limite inferioir permitido -946571.9125000001\n"
          ]
        }
      ]
    },
    {
      "cell_type": "code",
      "source": [
        "#HISTOGRAMA DE CAJA O BIGOTE\n",
        "fig = plt.figure(figsize=(4,3))\n",
        "plt.boxplot(x=data_clean_panaderia[\"panaderia\"])\n",
        "plt.title('Outliers Panaderia')\n",
        "\n",
        "#DIBUJAR EL DIAGRAMA\n",
        "plt.show()\n",
        "\n",
        "#RESULTADO: Se eliminan"
      ],
      "metadata": {
        "colab": {
          "base_uri": "https://localhost:8080/",
          "height": 314
        },
        "id": "bjieTvmpecLe",
        "outputId": "86cb7274-8c08-4e8a-cede-55add453993b"
      },
      "execution_count": 68,
      "outputs": [
        {
          "output_type": "display_data",
          "data": {
            "text/plain": [
              "<Figure size 400x300 with 1 Axes>"
            ],
            "image/png": "[encoded data removed]"
          },
          "metadata": {}
        }
      ]
    },
    {
      "cell_type": "markdown",
      "source": [
        "**COLUMNA: LACTEOS**"
      ],
      "metadata": {
        "id": "5ZjzNm9SevA9"
      }
    },
    {
      "cell_type": "code",
      "source": [
        "#HISTOGRAMA DE CAJA O BIGOTE\n",
        "fig = plt.figure(figsize=(4,3))\n",
        "plt.boxplot(x=df1[\"lacteos\"])\n",
        "plt.title('Outliers Lacteos')\n",
        "\n",
        "#DIBUJAR EL DIAGRAMA\n",
        "plt.show()\n",
        "\n",
        "#RESULTADO: SE IDENTIFICAN OUTLIERS"
      ],
      "metadata": {
        "colab": {
          "base_uri": "https://localhost:8080/",
          "height": 314
        },
        "id": "czKizmmWejwa",
        "outputId": "56c88f26-fa90-4716-a629-a8e3b2145e3c"
      },
      "execution_count": 70,
      "outputs": [
        {
          "output_type": "display_data",
          "data": {
            "text/plain": [
              "<Figure size 400x300 with 1 Axes>"
            ],
            "image/png": "[encoded data removed]"
          },
          "metadata": {}
        }
      ]
    },
    {
      "cell_type": "code",
      "source": [
        "#METODO APLICANDO CUARTILES | ENCUENTRO CUARTILES 0.25 Y 0.75\n",
        "y=df1[\"lacteos\"]\n",
        "\n",
        "percentile25=y.quantile(0.25) #Q1\n",
        "percentile75=y.quantile(0.75) #Q3\n",
        "iqr=percentile75 - percentile25\n",
        "\n",
        "Limite_Superior_6 =percentile75 + 1.5*iqr\n",
        "Limite_Inferior_6 =percentile25 - 1.5*iqr\n",
        "\n",
        "print(\"Limite superioir permitido\",Limite_Superior_6)\n",
        "print(\"Limite inferioir permitido\",Limite_Inferior_6)\n",
        "\n",
        "\n",
        "#ENCONTRAR OUTLIERS\n",
        "outliers_6 =df1[(y>Limite_Superior_6)|(y<Limite_Inferior_6)]\n",
        "outliers_6\n",
        "\n",
        "\n",
        "#OBTENER DATOS LIMPIOS\n",
        "data_clean_lacteos=df1[(y<=Limite_Superior_6)&(y>=Limite_Inferior_6)]\n",
        "#Nota: los outliers los elimina"
      ],
      "metadata": {
        "colab": {
          "base_uri": "https://localhost:8080/"
        },
        "id": "CRFFGjgNesk8",
        "outputId": "0808c56d-54fd-4d75-d374-b3028058f51e"
      },
      "execution_count": 72,
      "outputs": [
        {
          "output_type": "stream",
          "name": "stdout",
          "text": [
            "Limite superioir permitido 19940661.0455\n",
            "Limite inferioir permitido -5569362.3025\n"
          ]
        }
      ]
    },
    {
      "cell_type": "code",
      "source": [
        "#HISTOGRAMA DE CAJA O BIGOTE\n",
        "fig = plt.figure(figsize=(4,3))\n",
        "plt.boxplot(x=data_clean_lacteos[\"lacteos\"])\n",
        "plt.title('Outliers Lacteos')\n",
        "\n",
        "#DIBUJAR EL DIAGRAMA\n",
        "plt.show()\n",
        "\n",
        "#RESULTADO: Se eliminan"
      ],
      "metadata": {
        "colab": {
          "base_uri": "https://localhost:8080/",
          "height": 314
        },
        "id": "njqlc249e86n",
        "outputId": "db768c3f-acd0-4b76-b507-db78ac496f6e"
      },
      "execution_count": 73,
      "outputs": [
        {
          "output_type": "display_data",
          "data": {
            "text/plain": [
              "<Figure size 400x300 with 1 Axes>"
            ],
            "image/png": "[encoded data removed]"
          },
          "metadata": {}
        }
      ]
    },
    {
      "cell_type": "markdown",
      "source": [
        "**COLUMNA: ALIMENTOS PREPARADOS ROSTISERIA**"
      ],
      "metadata": {
        "id": "vmBBl8I_fcye"
      }
    },
    {
      "cell_type": "code",
      "source": [
        "#HISTOGRAMA DE CAJA O BIGOTE\n",
        "fig = plt.figure(figsize=(4,3))\n",
        "plt.boxplot(x=df1[\"alimentos_preparados_rotiseria\"])\n",
        "plt.title('Outliers Alimentos Preparados Rostiseria')\n",
        "\n",
        "#DIBUJAR EL DIAGRAMA\n",
        "plt.show()\n",
        "\n",
        "#RESULTADO: SE IDENTIFICAN OUTLIERS"
      ],
      "metadata": {
        "colab": {
          "base_uri": "https://localhost:8080/",
          "height": 329
        },
        "id": "dCzDwqwKfRDI",
        "outputId": "8ae66465-a543-4c45-c2db-21ff9591c58d"
      },
      "execution_count": 77,
      "outputs": [
        {
          "output_type": "display_data",
          "data": {
            "text/plain": [
              "<Figure size 400x300 with 1 Axes>"
            ],
            "image/png": "[encoded data removed]"
          },
          "metadata": {}
        }
      ]
    },
    {
      "cell_type": "code",
      "source": [
        "#METODO APLICANDO CUARTILES | ENCUENTRO CUARTILES 0.25 Y 0.75\n",
        "y=df1[\"alimentos_preparados_rotiseria\"]\n",
        "\n",
        "percentile25=y.quantile(0.25) #Q1\n",
        "percentile75=y.quantile(0.75) #Q3\n",
        "iqr=percentile75 - percentile25\n",
        "\n",
        "Limite_Superior_7 =percentile75 + 1.5*iqr\n",
        "Limite_Inferior_7 =percentile25 - 1.5*iqr\n",
        "\n",
        "print(\"Limite superioir permitido\",Limite_Superior_7)\n",
        "print(\"Limite inferioir permitido\",Limite_Inferior_7)\n",
        "\n",
        "\n",
        "#ENCONTRAR OUTLIERS\n",
        "outliers_7 =df1[(y>Limite_Superior_7)|(y<Limite_Inferior_7)]\n",
        "outliers_7\n",
        "\n",
        "\n",
        "#OBTENER DATOS LIMPIOS\n",
        "data_clean_alimentos_preparados_rotiseria=df1[(y<=Limite_Superior_7)&(y>=Limite_Inferior_7)]\n",
        "#Nota: los outliers los elimina"
      ],
      "metadata": {
        "colab": {
          "base_uri": "https://localhost:8080/"
        },
        "id": "FBmz45vjflOo",
        "outputId": "f1de1861-5325-4217-897c-994db2b44d20"
      },
      "execution_count": 78,
      "outputs": [
        {
          "output_type": "stream",
          "name": "stdout",
          "text": [
            "Limite superioir permitido 1546751.13875\n",
            "Limite inferioir permitido -227313.79444999993\n"
          ]
        }
      ]
    },
    {
      "cell_type": "code",
      "source": [
        "#HISTOGRAMA DE CAJA O BIGOTE\n",
        "fig = plt.figure(figsize=(4,3))\n",
        "plt.boxplot(x=data_clean_alimentos_preparados_rotiseria[\"alimentos_preparados_rotiseria\"])\n",
        "plt.title('Outliers Alimentos Preparados Rostiseria')\n",
        "\n",
        "#DIBUJAR EL DIAGRAMA\n",
        "plt.show()\n",
        "\n",
        "#RESULTADO: APARECEN DOS NUEVOS PORQUE SE RECALCULAN LOS LIMITES\n",
        "#NOTA: SOLO SE HACE UNA VEZ ESTE METODO"
      ],
      "metadata": {
        "colab": {
          "base_uri": "https://localhost:8080/",
          "height": 329
        },
        "id": "cHROYDF2f0vq",
        "outputId": "be57f6af-d8fb-456d-c6d7-dcc36d2f5d87"
      },
      "execution_count": 80,
      "outputs": [
        {
          "output_type": "display_data",
          "data": {
            "text/plain": [
              "<Figure size 400x300 with 1 Axes>"
            ],
            "image/png": "[encoded data removed]"
          },
          "metadata": {}
        }
      ]
    },
    {
      "cell_type": "markdown",
      "source": [
        "**COLUMNA: Indumentaria Calzado Textiles Hogar**"
      ],
      "metadata": {
        "id": "H0-MvwmwgaVL"
      }
    },
    {
      "cell_type": "code",
      "source": [
        "#HISTOGRAMA DE CAJA O BIGOTE\n",
        "fig = plt.figure(figsize=(4,3))\n",
        "plt.boxplot(x=df1[\"indumentaria_calzado_textiles_hogar\"])\n",
        "plt.title('Outliers Indumentaria calzado textiles hogar')\n",
        "\n",
        "#DIBUJAR EL DIAGRAMA\n",
        "plt.show()\n",
        "\n",
        "#RESULTADO: SE IDENTIFICAN OUTLIERS"
      ],
      "metadata": {
        "colab": {
          "base_uri": "https://localhost:8080/",
          "height": 329
        },
        "id": "cgIxhIOfgJTj",
        "outputId": "aad63add-8ffd-4eed-f326-5539af0c00cd"
      },
      "execution_count": 83,
      "outputs": [
        {
          "output_type": "display_data",
          "data": {
            "text/plain": [
              "<Figure size 400x300 with 1 Axes>"
            ],
            "image/png": "[encoded data removed]"
          },
          "metadata": {}
        }
      ]
    },
    {
      "cell_type": "code",
      "source": [
        "#METODO APLICANDO CUARTILES | ENCUENTRO CUARTILES 0.25 Y 0.75\n",
        "y=df1[\"indumentaria_calzado_textiles_hogar\"]\n",
        "\n",
        "percentile25=y.quantile(0.25) #Q1\n",
        "percentile75=y.quantile(0.75) #Q3\n",
        "iqr=percentile75 - percentile25\n",
        "\n",
        "Limite_Superior_8 =percentile75 + 1.5*iqr\n",
        "Limite_Inferior_8 =percentile25 - 1.5*iqr\n",
        "\n",
        "print(\"Limite superioir permitido\",Limite_Superior_8)\n",
        "print(\"Limite inferioir permitido\",Limite_Inferior_8)\n",
        "\n",
        "\n",
        "#ENCONTRAR OUTLIERS\n",
        "outliers_8 =df1[(y>Limite_Superior_8)|(y<Limite_Inferior_8)]\n",
        "outliers_8\n",
        "\n",
        "\n",
        "#OBTENER DATOS LIMPIOS\n",
        "data_clean_indumentaria_calzado_textiles_hogar=df1[(y<=Limite_Superior_8)&(y>=Limite_Inferior_8)]\n",
        "#Nota: los outliers los elimina"
      ],
      "metadata": {
        "colab": {
          "base_uri": "https://localhost:8080/"
        },
        "id": "O_pVcowHsc7p",
        "outputId": "26296cdc-6e6f-42ed-a88c-859a3f6c2c72"
      },
      "execution_count": 87,
      "outputs": [
        {
          "output_type": "stream",
          "name": "stdout",
          "text": [
            "Limite superioir permitido 4028365.028\n",
            "Limite inferioir permitido -800338.516\n"
          ]
        }
      ]
    },
    {
      "cell_type": "code",
      "source": [
        "#HISTOGRAMA DE CAJA O BIGOTE\n",
        "fig = plt.figure(figsize=(4,3))\n",
        "plt.boxplot(x=data_clean_indumentaria_calzado_textiles_hogar[\"indumentaria_calzado_textiles_hogar\"])\n",
        "plt.title('Outliers Indumentaria calzado textiles hogar')\n",
        "\n",
        "#DIBUJAR EL DIAGRAMA\n",
        "plt.show()\n",
        "\n",
        "#RESULTADO: Se eliminan"
      ],
      "metadata": {
        "colab": {
          "base_uri": "https://localhost:8080/",
          "height": 329
        },
        "id": "FHwEYqRdsqWK",
        "outputId": "e91b51b1-229f-426d-c5d5-c0a01b12303e"
      },
      "execution_count": 88,
      "outputs": [
        {
          "output_type": "display_data",
          "data": {
            "text/plain": [
              "<Figure size 400x300 with 1 Axes>"
            ],
            "image/png": "[encoded data removed]"
          },
          "metadata": {}
        }
      ]
    },
    {
      "cell_type": "markdown",
      "source": [
        "**COLUMNA: ELECTONICOS ARTICULOS HOGAR**"
      ],
      "metadata": {
        "id": "dB5MUBRxtAta"
      }
    },
    {
      "cell_type": "code",
      "source": [
        "#HISTOGRAMA DE CAJA O BIGOTE\n",
        "fig = plt.figure(figsize=(4,3))\n",
        "plt.boxplot(x=df1[\"electronicos_articulos_hogar\"])\n",
        "plt.title('Outliers Electronicos Articulos Hogar')\n",
        "\n",
        "#DIBUJAR EL DIAGRAMA\n",
        "plt.show()\n",
        "\n",
        "#RESULTADO: SE IDENTIFICAN OUTLIERS"
      ],
      "metadata": {
        "colab": {
          "base_uri": "https://localhost:8080/",
          "height": 329
        },
        "id": "q_5w6-_ys5w-",
        "outputId": "70ab8590-01f9-419d-e71c-1eb86212453f"
      },
      "execution_count": 90,
      "outputs": [
        {
          "output_type": "display_data",
          "data": {
            "text/plain": [
              "<Figure size 400x300 with 1 Axes>"
            ],
            "image/png": "[encoded data removed]"
          },
          "metadata": {}
        }
      ]
    },
    {
      "cell_type": "code",
      "source": [
        "#METODO APLICANDO CUARTILES | ENCUENTRO CUARTILES 0.25 Y 0.75\n",
        "y=df1[\"electronicos_articulos_hogar\"]\n",
        "\n",
        "percentile25=y.quantile(0.25) #Q1\n",
        "percentile75=y.quantile(0.75) #Q3\n",
        "iqr=percentile75 - percentile25\n",
        "\n",
        "Limite_Superior_9 =percentile75 + 1.5*iqr\n",
        "Limite_Inferior_9 =percentile25 - 1.5*iqr\n",
        "\n",
        "print(\"Limite superioir permitido\",Limite_Superior_9)\n",
        "print(\"Limite inferioir permitido\",Limite_Inferior_9)\n",
        "\n",
        "\n",
        "#ENCONTRAR OUTLIERS\n",
        "outliers_9 =df1[(y>Limite_Superior_9)|(y<Limite_Inferior_9)]\n",
        "outliers_9\n",
        "\n",
        "\n",
        "#OBTENER DATOS LIMPIOS\n",
        "data_clean_electronicos_articulos_hogar=df1[(y<=Limite_Superior_9)&(y>=Limite_Inferior_9)]\n",
        "#Nota: los outliers los elimina"
      ],
      "metadata": {
        "colab": {
          "base_uri": "https://localhost:8080/"
        },
        "id": "J7CKYn6HtI2z",
        "outputId": "c48a3d62-4bd8-4ef4-f781-aa15ad7d9956"
      },
      "execution_count": 94,
      "outputs": [
        {
          "output_type": "stream",
          "name": "stdout",
          "text": [
            "Limite superioir permitido 11851594.895499999\n",
            "Limite inferioir permitido -3640353.060499999\n"
          ]
        }
      ]
    },
    {
      "cell_type": "code",
      "source": [
        "#HISTOGRAMA DE CAJA O BIGOTE\n",
        "fig = plt.figure(figsize=(4,3))\n",
        "plt.boxplot(x=data_clean_electronicos_articulos_hogar[\"electronicos_articulos_hogar\"])\n",
        "plt.title('Outliers Electronicos Articulos Hogar')\n",
        "\n",
        "#DIBUJAR EL DIAGRAMA\n",
        "plt.show()\n",
        "\n",
        "#RESULTADO: APARECE UNO NUEVO PORQUE SE RECALCULAN LOS LIMITES\n",
        "#NOTA: SOLO SE HACE UNA VEZ ESTE METODO"
      ],
      "metadata": {
        "colab": {
          "base_uri": "https://localhost:8080/",
          "height": 329
        },
        "id": "Ay5I0RghtcH3",
        "outputId": "8d9d07f6-6298-4ab5-81ef-eee3b4f47371"
      },
      "execution_count": 97,
      "outputs": [
        {
          "output_type": "display_data",
          "data": {
            "text/plain": [
              "<Figure size 400x300 with 1 Axes>"
            ],
            "image/png": "[encoded data removed]"
          },
          "metadata": {}
        }
      ]
    },
    {
      "cell_type": "markdown",
      "source": [
        "**COLUMNA: OTROS**"
      ],
      "metadata": {
        "id": "78Raaijzuc9H"
      }
    },
    {
      "cell_type": "code",
      "source": [
        "#HISTOGRAMA DE CAJA O BIGOTE\n",
        "fig = plt.figure(figsize=(4,3))\n",
        "plt.boxplot(x=df1[\"otros\"])\n",
        "plt.title('Outliers OTROS')\n",
        "\n",
        "#DIBUJAR EL DIAGRAMA\n",
        "plt.show()\n",
        "\n",
        "#RESULTADO: SE IDENTIFICAN OUTLIERS, SE PUEDE OBSERVAR QUE HAY ALGUNOS JUNTOS Y UNO MUY ALEJADO"
      ],
      "metadata": {
        "colab": {
          "base_uri": "https://localhost:8080/",
          "height": 329
        },
        "id": "d8_u3Ph3uOHY",
        "outputId": "247b6193-e753-43a1-97f7-ca261a79692a"
      },
      "execution_count": 98,
      "outputs": [
        {
          "output_type": "display_data",
          "data": {
            "text/plain": [
              "<Figure size 400x300 with 1 Axes>"
            ],
            "image/png": "[encoded data removed]"
          },
          "metadata": {}
        }
      ]
    },
    {
      "cell_type": "code",
      "source": [
        "#METODO APLICANDO CUARTILES | ENCUENTRO CUARTILES 0.25 Y 0.75\n",
        "y=df1[\"otros\"]\n",
        "\n",
        "percentile25=y.quantile(0.25) #Q1\n",
        "percentile75=y.quantile(0.75) #Q3\n",
        "iqr=percentile75 - percentile25\n",
        "\n",
        "Limite_Superior_10 =percentile75 + 1.5*iqr\n",
        "Limite_Inferior_10 =percentile25 - 1.5*iqr\n",
        "\n",
        "print(\"Limite superioir permitido\",Limite_Superior_10)\n",
        "print(\"Limite inferioir permitido\",Limite_Inferior_10)\n",
        "\n",
        "\n",
        "#ENCONTRAR OUTLIERS\n",
        "outliers_10 =df1[(y>Limite_Superior_10)|(y<Limite_Inferior_10)]\n",
        "outliers_10\n",
        "\n",
        "\n",
        "#OBTENER DATOS LIMPIOS\n",
        "data_clean_otros=df1[(y<=Limite_Superior_10)&(y>=Limite_Inferior_10)]\n",
        "#Nota: los outliers los elimina"
      ],
      "metadata": {
        "colab": {
          "base_uri": "https://localhost:8080/"
        },
        "id": "CtQhkBR_ukQd",
        "outputId": "8dce01bd-cc84-4337-9c8e-8c2570afa261"
      },
      "execution_count": 117,
      "outputs": [
        {
          "output_type": "stream",
          "name": "stdout",
          "text": [
            "Limite superioir permitido 13169100.024999999\n",
            "Limite inferioir permitido -2599893.999\n"
          ]
        }
      ]
    },
    {
      "cell_type": "code",
      "source": [
        "#HISTOGRAMA DE CAJA O BIGOTE\n",
        "fig = plt.figure(figsize=(4,3))\n",
        "plt.boxplot(x=data_clean_otros[\"otros\"])\n",
        "plt.title('Outliers Otros')\n",
        "\n",
        "#DIBUJAR EL DIAGRAMA\n",
        "plt.show()\n",
        "\n",
        "#RESULTADO: APARECE UNO NUEVO PORQUE SE RECALCULAN LOS LIMITES\n",
        "#NOTA: SOLO SE HACE UNA VEZ ESTE METODO"
      ],
      "metadata": {
        "colab": {
          "base_uri": "https://localhost:8080/",
          "height": 314
        },
        "id": "ZAV_0yR5uxGe",
        "outputId": "9dbc82f5-21b7-412c-83a2-4f6d11b951b1"
      },
      "execution_count": 118,
      "outputs": [
        {
          "output_type": "display_data",
          "data": {
            "text/plain": [
              "<Figure size 400x300 with 1 Axes>"
            ],
            "image/png": "[encoded data removed]"
          },
          "metadata": {}
        }
      ]
    },
    {
      "cell_type": "markdown",
      "source": [
        "COMPROBACION QUE ES UN NUEVO OUTLIERS"
      ],
      "metadata": {
        "id": "Uyw-P2N5wSFT"
      }
    },
    {
      "cell_type": "code",
      "source": [
        "#ENCONTRAR OUTLIERS | ANTERIOR\n",
        "outliers_10 =df1[(y>Limite_Superior_10)|(y<Limite_Inferior_10)]\n",
        "outliers_10"
      ],
      "metadata": {
        "colab": {
          "base_uri": "https://localhost:8080/",
          "height": 210
        },
        "id": "PKXcxO4Gv5oF",
        "outputId": "560bb1b8-4407-4593-cba8-3bfed38b11c2"
      },
      "execution_count": 119,
      "outputs": [
        {
          "output_type": "execute_result",
          "data": {
            "text/plain": [
              "    Unnamed: 0 indice_tiempo  ventas_precios_corrientes  \\\n",
              "59          59    01/12/2021                   183983.2   \n",
              "60          60    01/01/2022                   154517.1   \n",
              "61          61    01/02/2022                   152202.6   \n",
              "\n",
              "    ventas_precios_constantes  ventas_totales_canal_venta  salon_ventas  \\\n",
              "59                    31595.7                 183983151.9   178866721.2   \n",
              "60                    45463.4                 154517094.2   149697614.6   \n",
              "61                    23802.1                 152202573.4   148406529.3   \n",
              "\n",
              "    canales_on_line  ventas_totales_medio_pago     efectivo  tarjetas_debito  \\\n",
              "59      5116430.634                183983151.9  56640033.15      55432191.37   \n",
              "60      4819479.554                154517094.2  46962602.22      46053650.13   \n",
              "61      3796044.076                152202573.4  46290956.21      45283575.25   \n",
              "\n",
              "    ...      almacen    panaderia      lacteos       carnes  \\\n",
              "59  ...  45199914.72  5859939.041  16275221.46  21265049.45   \n",
              "60  ...  37505172.62  4860317.680  16104766.21  17408486.73   \n",
              "61  ...  38209790.62  5045920.421  16139816.50  18260738.31   \n",
              "\n",
              "    verduleria_fruteria  alimentos_preparados_rotiseria  \\\n",
              "59          5863700.608                     1679028.685   \n",
              "60          6138441.197                     1401929.429   \n",
              "61          6436027.691                     1370639.589   \n",
              "\n",
              "    articulos_limpieza_perfumeria  indumentaria_calzado_textiles_hogar  \\\n",
              "59                    21753939.73                          4759532.634   \n",
              "60                    21330213.29                          3782646.219   \n",
              "61                    20305446.86                          3912852.426   \n",
              "\n",
              "    electronicos_articulos_hogar        otros  \n",
              "59                  1.266927e+07  16665123.15  \n",
              "60                  1.218755e+07  13433071.98  \n",
              "61                  9.189746e+06  13301387.17  \n",
              "\n",
              "[3 rows x 25 columns]"
            ],
            "text/html": [
              "\n",
              "  <div id=\"df-e22ecaef-655b-4435-8a77-476555a3cac0\" class=\"colab-df-container\">\n",
              "    <div>\n",
              "<style scoped>\n",
              "    .dataframe tbody tr th:only-of-type {\n",
              "        vertical-align: middle;\n",
              "    }\n",
              "\n",
              "    .dataframe tbody tr th {\n",
              "        vertical-align: top;\n",
              "    }\n",
              "\n",
              "    .dataframe thead th {\n",
              "        text-align: right;\n",
              "    }\n",
              "</style>\n",
              "<table border=\"1\" class=\"dataframe\">\n",
              "  <thead>\n",
              "    <tr style=\"text-align: right;\">\n",
              "      <th></th>\n",
              "      <th>Unnamed: 0</th>\n",
              "      <th>indice_tiempo</th>\n",
              "      <th>ventas_precios_corrientes</th>\n",
              "      <th>ventas_precios_constantes</th>\n",
              "      <th>ventas_totales_canal_venta</th>\n",
              "      <th>salon_ventas</th>\n",
              "      <th>canales_on_line</th>\n",
              "      <th>ventas_totales_medio_pago</th>\n",
              "      <th>efectivo</th>\n",
              "      <th>tarjetas_debito</th>\n",
              "      <th>...</th>\n",
              "      <th>almacen</th>\n",
              "      <th>panaderia</th>\n",
              "      <th>lacteos</th>\n",
              "      <th>carnes</th>\n",
              "      <th>verduleria_fruteria</th>\n",
              "      <th>alimentos_preparados_rotiseria</th>\n",
              "      <th>articulos_limpieza_perfumeria</th>\n",
              "      <th>indumentaria_calzado_textiles_hogar</th>\n",
              "      <th>electronicos_articulos_hogar</th>\n",
              "      <th>otros</th>\n",
              "    </tr>\n",
              "  </thead>\n",
              "  <tbody>\n",
              "    <tr>\n",
              "      <th>59</th>\n",
              "      <td>59</td>\n",
              "      <td>01/12/2021</td>\n",
              "      <td>183983.2</td>\n",
              "      <td>31595.7</td>\n",
              "      <td>183983151.9</td>\n",
              "      <td>178866721.2</td>\n",
              "      <td>5116430.634</td>\n",
              "      <td>183983151.9</td>\n",
              "      <td>56640033.15</td>\n",
              "      <td>55432191.37</td>\n",
              "      <td>...</td>\n",
              "      <td>45199914.72</td>\n",
              "      <td>5859939.041</td>\n",
              "      <td>16275221.46</td>\n",
              "      <td>21265049.45</td>\n",
              "      <td>5863700.608</td>\n",
              "      <td>1679028.685</td>\n",
              "      <td>21753939.73</td>\n",
              "      <td>4759532.634</td>\n",
              "      <td>1.266927e+07</td>\n",
              "      <td>16665123.15</td>\n",
              "    </tr>\n",
              "    <tr>\n",
              "      <th>60</th>\n",
              "      <td>60</td>\n",
              "      <td>01/01/2022</td>\n",
              "      <td>154517.1</td>\n",
              "      <td>45463.4</td>\n",
              "      <td>154517094.2</td>\n",
              "      <td>149697614.6</td>\n",
              "      <td>4819479.554</td>\n",
              "      <td>154517094.2</td>\n",
              "      <td>46962602.22</td>\n",
              "      <td>46053650.13</td>\n",
              "      <td>...</td>\n",
              "      <td>37505172.62</td>\n",
              "      <td>4860317.680</td>\n",
              "      <td>16104766.21</td>\n",
              "      <td>17408486.73</td>\n",
              "      <td>6138441.197</td>\n",
              "      <td>1401929.429</td>\n",
              "      <td>21330213.29</td>\n",
              "      <td>3782646.219</td>\n",
              "      <td>1.218755e+07</td>\n",
              "      <td>13433071.98</td>\n",
              "    </tr>\n",
              "    <tr>\n",
              "      <th>61</th>\n",
              "      <td>61</td>\n",
              "      <td>01/02/2022</td>\n",
              "      <td>152202.6</td>\n",
              "      <td>23802.1</td>\n",
              "      <td>152202573.4</td>\n",
              "      <td>148406529.3</td>\n",
              "      <td>3796044.076</td>\n",
              "      <td>152202573.4</td>\n",
              "      <td>46290956.21</td>\n",
              "      <td>45283575.25</td>\n",
              "      <td>...</td>\n",
              "      <td>38209790.62</td>\n",
              "      <td>5045920.421</td>\n",
              "      <td>16139816.50</td>\n",
              "      <td>18260738.31</td>\n",
              "      <td>6436027.691</td>\n",
              "      <td>1370639.589</td>\n",
              "      <td>20305446.86</td>\n",
              "      <td>3912852.426</td>\n",
              "      <td>9.189746e+06</td>\n",
              "      <td>13301387.17</td>\n",
              "    </tr>\n",
              "  </tbody>\n",
              "</table>\n",
              "<p>3 rows × 25 columns</p>\n",
              "</div>\n",
              "    <div class=\"colab-df-buttons\">\n",
              "\n",
              "  <div class=\"colab-df-container\">\n",
              "    <button class=\"colab-df-convert\" onclick=\"convertToInteractive('df-e22ecaef-655b-4435-8a77-476555a3cac0')\"\n",
              "            title=\"Convert this dataframe to an interactive table.\"\n",
              "            style=\"display:none;\">\n",
              "\n",
              "  <svg xmlns=\"http://www.w3.org/2000/svg\" height=\"24px\" viewBox=\"0 -960 960 960\">\n",
              "    <path d=\"M120-120v-720h720v720H120Zm60-500h600v-160H180v160Zm220 220h160v-160H400v160Zm0 220h160v-160H400v160ZM180-400h160v-160H180v160Zm440 0h160v-160H620v160ZM180-180h160v-160H180v160Zm440 0h160v-160H620v160Z\"/>\n",
              "  </svg>\n",
              "    </button>\n",
              "\n",
              "  <style>\n",
              "    .colab-df-container {\n",
              "      display:flex;\n",
              "      gap: 12px;\n",
              "    }\n",
              "\n",
              "    .colab-df-convert {\n",
              "      background-color: #E8F0FE;\n",
              "      border: none;\n",
              "      border-radius: 50%;\n",
              "      cursor: pointer;\n",
              "      display: none;\n",
              "      fill: #1967D2;\n",
              "      height: 32px;\n",
              "      padding: 0 0 0 0;\n",
              "      width: 32px;\n",
              "    }\n",
              "\n",
              "    .colab-df-convert:hover {\n",
              "      background-color: #E2EBFA;\n",
              "      box-shadow: 0px 1px 2px rgba(60, 64, 67, 0.3), 0px 1px 3px 1px rgba(60, 64, 67, 0.15);\n",
              "      fill: #174EA6;\n",
              "    }\n",
              "\n",
              "    .colab-df-buttons div {\n",
              "      margin-bottom: 4px;\n",
              "    }\n",
              "\n",
              "    [theme=dark] .colab-df-convert {\n",
              "      background-color: #3B4455;\n",
              "      fill: #D2E3FC;\n",
              "    }\n",
              "\n",
              "    [theme=dark] .colab-df-convert:hover {\n",
              "      background-color: #434B5C;\n",
              "      box-shadow: 0px 1px 3px 1px rgba(0, 0, 0, 0.15);\n",
              "      filter: drop-shadow(0px 1px 2px rgba(0, 0, 0, 0.3));\n",
              "      fill: #FFFFFF;\n",
              "    }\n",
              "  </style>\n",
              "\n",
              "    <script>\n",
              "      const buttonEl =\n",
              "        document.querySelector('#df-e22ecaef-655b-4435-8a77-476555a3cac0 button.colab-df-convert');\n",
              "      buttonEl.style.display =\n",
              "        google.colab.kernel.accessAllowed ? 'block' : 'none';\n",
              "\n",
              "      async function convertToInteractive(key) {\n",
              "        const element = document.querySelector('#df-e22ecaef-655b-4435-8a77-476555a3cac0');\n",
              "        const dataTable =\n",
              "          await google.colab.kernel.invokeFunction('convertToInteractive',\n",
              "                                                    [key], {});\n",
              "        if (!dataTable) return;\n",
              "\n",
              "        const docLinkHtml = 'Like what you see? Visit the ' +\n",
              "          '<a target=\"_blank\" href=https://colab.research.google.com/notebooks/data_table.ipynb>data table notebook</a>'\n",
              "          + ' to learn more about interactive tables.';\n",
              "        element.innerHTML = '';\n",
              "        dataTable['output_type'] = 'display_data';\n",
              "        await google.colab.output.renderOutput(dataTable, element);\n",
              "        const docLink = document.createElement('div');\n",
              "        docLink.innerHTML = docLinkHtml;\n",
              "        element.appendChild(docLink);\n",
              "      }\n",
              "    </script>\n",
              "  </div>\n",
              "\n",
              "\n",
              "<div id=\"df-3a7f4063-6836-4fef-938a-963779af7164\">\n",
              "  <button class=\"colab-df-quickchart\" onclick=\"quickchart('df-3a7f4063-6836-4fef-938a-963779af7164')\"\n",
              "            title=\"Suggest charts.\"\n",
              "            style=\"display:none;\">\n",
              "\n",
              "<svg xmlns=\"http://www.w3.org/2000/svg\" height=\"24px\"viewBox=\"0 0 24 24\"\n",
              "     width=\"24px\">\n",
              "    <g>\n",
              "        <path d=\"M19 3H5c-1.1 0-2 .9-2 2v14c0 1.1.9 2 2 2h14c1.1 0 2-.9 2-2V5c0-1.1-.9-2-2-2zM9 17H7v-7h2v7zm4 0h-2V7h2v10zm4 0h-2v-4h2v4z\"/>\n",
              "    </g>\n",
              "</svg>\n",
              "  </button>\n",
              "\n",
              "<style>\n",
              "  .colab-df-quickchart {\n",
              "      --bg-color: #E8F0FE;\n",
              "      --fill-color: #1967D2;\n",
              "      --hover-bg-color: #E2EBFA;\n",
              "      --hover-fill-color: #174EA6;\n",
              "      --disabled-fill-color: #AAA;\n",
              "      --disabled-bg-color: #DDD;\n",
              "  }\n",
              "\n",
              "  [theme=dark] .colab-df-quickchart {\n",
              "      --bg-color: #3B4455;\n",
              "      --fill-color: #D2E3FC;\n",
              "      --hover-bg-color: #434B5C;\n",
              "      --hover-fill-color: #FFFFFF;\n",
              "      --disabled-bg-color: #3B4455;\n",
              "      --disabled-fill-color: #666;\n",
              "  }\n",
              "\n",
              "  .colab-df-quickchart {\n",
              "    background-color: var(--bg-color);\n",
              "    border: none;\n",
              "    border-radius: 50%;\n",
              "    cursor: pointer;\n",
              "    display: none;\n",
              "    fill: var(--fill-color);\n",
              "    height: 32px;\n",
              "    padding: 0;\n",
              "    width: 32px;\n",
              "  }\n",
              "\n",
              "  .colab-df-quickchart:hover {\n",
              "    background-color: var(--hover-bg-color);\n",
              "    box-shadow: 0 1px 2px rgba(60, 64, 67, 0.3), 0 1px 3px 1px rgba(60, 64, 67, 0.15);\n",
              "    fill: var(--button-hover-fill-color);\n",
              "  }\n",
              "\n",
              "  .colab-df-quickchart-complete:disabled,\n",
              "  .colab-df-quickchart-complete:disabled:hover {\n",
              "    background-color: var(--disabled-bg-color);\n",
              "    fill: var(--disabled-fill-color);\n",
              "    box-shadow: none;\n",
              "  }\n",
              "\n",
              "  .colab-df-spinner {\n",
              "    border: 2px solid var(--fill-color);\n",
              "    border-color: transparent;\n",
              "    border-bottom-color: var(--fill-color);\n",
              "    animation:\n",
              "      spin 1s steps(1) infinite;\n",
              "  }\n",
              "\n",
              "  @keyframes spin {\n",
              "    0% {\n",
              "      border-color: transparent;\n",
              "      border-bottom-color: var(--fill-color);\n",
              "      border-left-color: var(--fill-color);\n",
              "    }\n",
              "    20% {\n",
              "      border-color: transparent;\n",
              "      border-left-color: var(--fill-color);\n",
              "      border-top-color: var(--fill-color);\n",
              "    }\n",
              "    30% {\n",
              "      border-color: transparent;\n",
              "      border-left-color: var(--fill-color);\n",
              "      border-top-color: var(--fill-color);\n",
              "      border-right-color: var(--fill-color);\n",
              "    }\n",
              "    40% {\n",
              "      border-color: transparent;\n",
              "      border-right-color: var(--fill-color);\n",
              "      border-top-color: var(--fill-color);\n",
              "    }\n",
              "    60% {\n",
              "      border-color: transparent;\n",
              "      border-right-color: var(--fill-color);\n",
              "    }\n",
              "    80% {\n",
              "      border-color: transparent;\n",
              "      border-right-color: var(--fill-color);\n",
              "      border-bottom-color: var(--fill-color);\n",
              "    }\n",
              "    90% {\n",
              "      border-color: transparent;\n",
              "      border-bottom-color: var(--fill-color);\n",
              "    }\n",
              "  }\n",
              "</style>\n",
              "\n",
              "  <script>\n",
              "    async function quickchart(key) {\n",
              "      const quickchartButtonEl =\n",
              "        document.querySelector('#' + key + ' button');\n",
              "      quickchartButtonEl.disabled = true;  // To prevent multiple clicks.\n",
              "      quickchartButtonEl.classList.add('colab-df-spinner');\n",
              "      try {\n",
              "        const charts = await google.colab.kernel.invokeFunction(\n",
              "            'suggestCharts', [key], {});\n",
              "      } catch (error) {\n",
              "        console.error('Error during call to suggestCharts:', error);\n",
              "      }\n",
              "      quickchartButtonEl.classList.remove('colab-df-spinner');\n",
              "      quickchartButtonEl.classList.add('colab-df-quickchart-complete');\n",
              "    }\n",
              "    (() => {\n",
              "      let quickchartButtonEl =\n",
              "        document.querySelector('#df-3a7f4063-6836-4fef-938a-963779af7164 button');\n",
              "      quickchartButtonEl.style.display =\n",
              "        google.colab.kernel.accessAllowed ? 'block' : 'none';\n",
              "    })();\n",
              "  </script>\n",
              "</div>\n",
              "    </div>\n",
              "  </div>\n"
            ]
          },
          "metadata": {},
          "execution_count": 119
        }
      ]
    },
    {
      "cell_type": "code",
      "source": [
        "#METODO APLICANDO CUARTILES | ENCUENTRO CUARTILES 0.25 Y 0.75\n",
        "y=data_clean_otros[\"otros\"]\n",
        "\n",
        "percentile25=y.quantile(0.25) #Q1\n",
        "percentile75=y.quantile(0.75) #Q3\n",
        "iqr=percentile75 - percentile25\n",
        "\n",
        "Limite_Superior_11 =percentile75 + 1.5*iqr\n",
        "Limite_Inferior_11 =percentile25 - 1.5*iqr\n",
        "\n",
        "\n",
        "#ENCONTRAR OUTLIERS | NUEVO\n",
        "outliers_11 =data_clean_otros[(y>Limite_Superior_11)|(y<Limite_Inferior_11)]\n",
        "outliers_11\n",
        "\n",
        "\n",
        "#OBSERVACION: SE PUEDE VER QUE ES UNO TOTALMENTE DIFERENTE Y ESTO ES PORQUE LOS LIMITES SE RECALCULAN Y HACE QUE APAREZCAN NUEVOS."
      ],
      "metadata": {
        "colab": {
          "base_uri": "https://localhost:8080/",
          "height": 147
        },
        "id": "TTFG1B3_vewX",
        "outputId": "bebe1398-3f01-4f18-e844-d3a409e4241e"
      },
      "execution_count": 115,
      "outputs": [
        {
          "output_type": "execute_result",
          "data": {
            "text/plain": [
              "    Unnamed: 0 indice_tiempo  ventas_precios_corrientes  \\\n",
              "64          64    01/05/2022                   179639.2   \n",
              "\n",
              "    ventas_precios_constantes  ventas_totales_canal_venta  salon_ventas  \\\n",
              "64                    23234.2                 179639238.6   175358487.5   \n",
              "\n",
              "    canales_on_line  ventas_totales_medio_pago     efectivo  tarjetas_debito  \\\n",
              "64      4280751.113                179639238.6  52738110.62      49886787.86   \n",
              "\n",
              "    ...      almacen    panaderia      lacteos       carnes  \\\n",
              "64  ...  50150351.46  6667329.665  20121124.43  22841532.85   \n",
              "\n",
              "    verduleria_fruteria  alimentos_preparados_rotiseria  \\\n",
              "64           6314109.47                     1779482.857   \n",
              "\n",
              "    articulos_limpieza_perfumeria  indumentaria_calzado_textiles_hogar  \\\n",
              "64                    23578638.71                          5213152.564   \n",
              "\n",
              "    electronicos_articulos_hogar        otros  \n",
              "64                   12039595.55  12349980.06  \n",
              "\n",
              "[1 rows x 25 columns]"
            ],
            "text/html": [
              "\n",
              "  <div id=\"df-17ae8c84-129c-43d2-a21d-3aae7cbe7e94\" class=\"colab-df-container\">\n",
              "    <div>\n",
              "<style scoped>\n",
              "    .dataframe tbody tr th:only-of-type {\n",
              "        vertical-align: middle;\n",
              "    }\n",
              "\n",
              "    .dataframe tbody tr th {\n",
              "        vertical-align: top;\n",
              "    }\n",
              "\n",
              "    .dataframe thead th {\n",
              "        text-align: right;\n",
              "    }\n",
              "</style>\n",
              "<table border=\"1\" class=\"dataframe\">\n",
              "  <thead>\n",
              "    <tr style=\"text-align: right;\">\n",
              "      <th></th>\n",
              "      <th>Unnamed: 0</th>\n",
              "      <th>indice_tiempo</th>\n",
              "      <th>ventas_precios_corrientes</th>\n",
              "      <th>ventas_precios_constantes</th>\n",
              "      <th>ventas_totales_canal_venta</th>\n",
              "      <th>salon_ventas</th>\n",
              "      <th>canales_on_line</th>\n",
              "      <th>ventas_totales_medio_pago</th>\n",
              "      <th>efectivo</th>\n",
              "      <th>tarjetas_debito</th>\n",
              "      <th>...</th>\n",
              "      <th>almacen</th>\n",
              "      <th>panaderia</th>\n",
              "      <th>lacteos</th>\n",
              "      <th>carnes</th>\n",
              "      <th>verduleria_fruteria</th>\n",
              "      <th>alimentos_preparados_rotiseria</th>\n",
              "      <th>articulos_limpieza_perfumeria</th>\n",
              "      <th>indumentaria_calzado_textiles_hogar</th>\n",
              "      <th>electronicos_articulos_hogar</th>\n",
              "      <th>otros</th>\n",
              "    </tr>\n",
              "  </thead>\n",
              "  <tbody>\n",
              "    <tr>\n",
              "      <th>64</th>\n",
              "      <td>64</td>\n",
              "      <td>01/05/2022</td>\n",
              "      <td>179639.2</td>\n",
              "      <td>23234.2</td>\n",
              "      <td>179639238.6</td>\n",
              "      <td>175358487.5</td>\n",
              "      <td>4280751.113</td>\n",
              "      <td>179639238.6</td>\n",
              "      <td>52738110.62</td>\n",
              "      <td>49886787.86</td>\n",
              "      <td>...</td>\n",
              "      <td>50150351.46</td>\n",
              "      <td>6667329.665</td>\n",
              "      <td>20121124.43</td>\n",
              "      <td>22841532.85</td>\n",
              "      <td>6314109.47</td>\n",
              "      <td>1779482.857</td>\n",
              "      <td>23578638.71</td>\n",
              "      <td>5213152.564</td>\n",
              "      <td>12039595.55</td>\n",
              "      <td>12349980.06</td>\n",
              "    </tr>\n",
              "  </tbody>\n",
              "</table>\n",
              "<p>1 rows × 25 columns</p>\n",
              "</div>\n",
              "    <div class=\"colab-df-buttons\">\n",
              "\n",
              "  <div class=\"colab-df-container\">\n",
              "    <button class=\"colab-df-convert\" onclick=\"convertToInteractive('df-17ae8c84-129c-43d2-a21d-3aae7cbe7e94')\"\n",
              "            title=\"Convert this dataframe to an interactive table.\"\n",
              "            style=\"display:none;\">\n",
              "\n",
              "  <svg xmlns=\"http://www.w3.org/2000/svg\" height=\"24px\" viewBox=\"0 -960 960 960\">\n",
              "    <path d=\"M120-120v-720h720v720H120Zm60-500h600v-160H180v160Zm220 220h160v-160H400v160Zm0 220h160v-160H400v160ZM180-400h160v-160H180v160Zm440 0h160v-160H620v160ZM180-180h160v-160H180v160Zm440 0h160v-160H620v160Z\"/>\n",
              "  </svg>\n",
              "    </button>\n",
              "\n",
              "  <style>\n",
              "    .colab-df-container {\n",
              "      display:flex;\n",
              "      gap: 12px;\n",
              "    }\n",
              "\n",
              "    .colab-df-convert {\n",
              "      background-color: #E8F0FE;\n",
              "      border: none;\n",
              "      border-radius: 50%;\n",
              "      cursor: pointer;\n",
              "      display: none;\n",
              "      fill: #1967D2;\n",
              "      height: 32px;\n",
              "      padding: 0 0 0 0;\n",
              "      width: 32px;\n",
              "    }\n",
              "\n",
              "    .colab-df-convert:hover {\n",
              "      background-color: #E2EBFA;\n",
              "      box-shadow: 0px 1px 2px rgba(60, 64, 67, 0.3), 0px 1px 3px 1px rgba(60, 64, 67, 0.15);\n",
              "      fill: #174EA6;\n",
              "    }\n",
              "\n",
              "    .colab-df-buttons div {\n",
              "      margin-bottom: 4px;\n",
              "    }\n",
              "\n",
              "    [theme=dark] .colab-df-convert {\n",
              "      background-color: #3B4455;\n",
              "      fill: #D2E3FC;\n",
              "    }\n",
              "\n",
              "    [theme=dark] .colab-df-convert:hover {\n",
              "      background-color: #434B5C;\n",
              "      box-shadow: 0px 1px 3px 1px rgba(0, 0, 0, 0.15);\n",
              "      filter: drop-shadow(0px 1px 2px rgba(0, 0, 0, 0.3));\n",
              "      fill: #FFFFFF;\n",
              "    }\n",
              "  </style>\n",
              "\n",
              "    <script>\n",
              "      const buttonEl =\n",
              "        document.querySelector('#df-17ae8c84-129c-43d2-a21d-3aae7cbe7e94 button.colab-df-convert');\n",
              "      buttonEl.style.display =\n",
              "        google.colab.kernel.accessAllowed ? 'block' : 'none';\n",
              "\n",
              "      async function convertToInteractive(key) {\n",
              "        const element = document.querySelector('#df-17ae8c84-129c-43d2-a21d-3aae7cbe7e94');\n",
              "        const dataTable =\n",
              "          await google.colab.kernel.invokeFunction('convertToInteractive',\n",
              "                                                    [key], {});\n",
              "        if (!dataTable) return;\n",
              "\n",
              "        const docLinkHtml = 'Like what you see? Visit the ' +\n",
              "          '<a target=\"_blank\" href=https://colab.research.google.com/notebooks/data_table.ipynb>data table notebook</a>'\n",
              "          + ' to learn more about interactive tables.';\n",
              "        element.innerHTML = '';\n",
              "        dataTable['output_type'] = 'display_data';\n",
              "        await google.colab.output.renderOutput(dataTable, element);\n",
              "        const docLink = document.createElement('div');\n",
              "        docLink.innerHTML = docLinkHtml;\n",
              "        element.appendChild(docLink);\n",
              "      }\n",
              "    </script>\n",
              "  </div>\n",
              "\n",
              "    </div>\n",
              "  </div>\n"
            ]
          },
          "metadata": {},
          "execution_count": 115
        }
      ]
    },
    {
      "cell_type": "markdown",
      "source": [
        "**CONVERTIR Y DESCARGAR DATAFRAME A CSV**"
      ],
      "metadata": {
        "id": "qODi4UXIwqon"
      }
    },
    {
      "cell_type": "code",
      "source": [
        "#CONVERTIR ARCHIVO FILTRADO A CSV | FILTRO1\n",
        "data_clean_salon_ventas.to_csv(\"ACT_3|COLUMNA_SALON_VENTAS.csv\")\n",
        "data_clean_tarjetas_debito.to_csv(\"ACT_3|COLUMNA_TARJETAS_DEBITO.csv\")\n",
        "data_clean_tarjetas_credito.to_csv(\"ACT_3|COLUMNA_TARJETAS_CREDITO.csv\")\n",
        "data_clean_bebidas.to_csv(\"ACT_3|COLUMNA_BEBIDAS.csv\")\n",
        "data_clean_panaderia.to_csv(\"ACT_3|COLUMNA_PANADERIA.csv\")\n",
        "data_clean_lacteos.to_csv(\"ACT_3|COLUMNA_LACTEOS.csv\")\n",
        "data_clean_alimentos_preparados_rotiseria.to_csv(\"ACT_3|COLUMNA_ALIMENTOS_PREPARADOS_ROSTISERIA.csv\")\n",
        "data_clean_indumentaria_calzado_textiles_hogar.to_csv(\"ACT_3|COLUMNA_INDUMENTRAIA_CALZADO_TEXTILES_HOGAR.csv\")\n",
        "data_clean_electronicos_articulos_hogar.to_csv(\"ACT_3|COLUMNA_ELECTRONICOS_ARTICULOS_HOGAR.csv\")\n",
        "data_clean_otros.to_csv(\"ACT_3|COLUMNA_OTROS.csv\")"
      ],
      "metadata": {
        "id": "tLTMVOu7wy7t"
      },
      "execution_count": 122,
      "outputs": []
    },
    {
      "cell_type": "code",
      "source": [
        "#DESCARGAR ARCHIVOS FILTRADO A CSV\n",
        "from google.colab import files\n",
        "\n",
        "files.download(\"ACT_3|COLUMNA_SALON_VENTAS.csv\")\n",
        "files.download(\"ACT_3|COLUMNA_TARJETAS_DEBITO.csv\")\n",
        "files.download(\"ACT_3|COLUMNA_TARJETAS_CREDITO.csv\")\n",
        "files.download(\"ACT_3|COLUMNA_BEBIDAS.csv\")\n",
        "files.download(\"ACT_3|COLUMNA_PANADERIA.csv\")\n",
        "files.download(\"ACT_3|COLUMNA_LACTEOS.csv\")\n",
        "files.download(\"ACT_3|COLUMNA_ALIMENTOS_PREPARADOS_ROSTISERIA.csv\")\n",
        "files.download(\"ACT_3|COLUMNA_INDUMENTRAIA_CALZADO_TEXTILES_HOGAR.csv\")\n",
        "files.download(\"ACT_3|COLUMNA_ELECTRONICOS_ARTICULOS_HOGAR.csv\")\n",
        "files.download(\"ACT_3|COLUMNA_OTROS.csv\")"
      ],
      "metadata": {
        "colab": {
          "base_uri": "https://localhost:8080/",
          "height": 17
        },
        "id": "TJZQuUoM0dTd",
        "outputId": "105ccfeb-9200-44e8-ace0-4757ae095776"
      },
      "execution_count": 123,
      "outputs": [
        {
          "output_type": "display_data",
          "data": {
            "text/plain": [
              "<IPython.core.display.Javascript object>"
            ],
            "application/javascript": [
              "\n",
              "    async function download(id, filename, size) {\n",
              "      if (!google.colab.kernel.accessAllowed) {\n",
              "        return;\n",
              "      }\n",
              "      const div = document.createElement('div');\n",
              "      const label = document.createElement('label');\n",
              "      label.textContent = `Downloading \"${filename}\": `;\n",
              "      div.appendChild(label);\n",
              "      const progress = document.createElement('progress');\n",
              "      progress.max = size;\n",
              "      div.appendChild(progress);\n",
              "      document.body.appendChild(div);\n",
              "\n",
              "      const buffers = [];\n",
              "      let downloaded = 0;\n",
              "\n",
              "      const channel = await google.colab.kernel.comms.open(id);\n",
              "      // Send a message to notify the kernel that we're ready.\n",
              "      channel.send({})\n",
              "\n",
              "      for await (const message of channel.messages) {\n",
              "        // Send a message to notify the kernel that we're ready.\n",
              "        channel.send({})\n",
              "        if (message.buffers) {\n",
              "          for (const buffer of message.buffers) {\n",
              "            buffers.push(buffer);\n",
              "            downloaded += buffer.byteLength;\n",
              "            progress.value = downloaded;\n",
              "          }\n",
              "        }\n",
              "      }\n",
              "      const blob = new Blob(buffers, {type: 'application/binary'});\n",
              "      const a = document.createElement('a');\n",
              "      a.href = window.URL.createObjectURL(blob);\n",
              "      a.download = filename;\n",
              "      div.appendChild(a);\n",
              "      a.click();\n",
              "      div.remove();\n",
              "    }\n",
              "  "
            ]
          },
          "metadata": {}
        },
        {
          "output_type": "display_data",
          "data": {
            "text/plain": [
              "<IPython.core.display.Javascript object>"
            ],
            "application/javascript": [
              "download(\"download_c2ca45e8-05ed-41a4-ba9b-a95874d2c9b2\", \"ACT_3|COLUMNA_SALON_VENTAS.csv\", 17953)"
            ]
          },
          "metadata": {}
        },
        {
          "output_type": "display_data",
          "data": {
            "text/plain": [
              "<IPython.core.display.Javascript object>"
            ],
            "application/javascript": [
              "\n",
              "    async function download(id, filename, size) {\n",
              "      if (!google.colab.kernel.accessAllowed) {\n",
              "        return;\n",
              "      }\n",
              "      const div = document.createElement('div');\n",
              "      const label = document.createElement('label');\n",
              "      label.textContent = `Downloading \"${filename}\": `;\n",
              "      div.appendChild(label);\n",
              "      const progress = document.createElement('progress');\n",
              "      progress.max = size;\n",
              "      div.appendChild(progress);\n",
              "      document.body.appendChild(div);\n",
              "\n",
              "      const buffers = [];\n",
              "      let downloaded = 0;\n",
              "\n",
              "      const channel = await google.colab.kernel.comms.open(id);\n",
              "      // Send a message to notify the kernel that we're ready.\n",
              "      channel.send({})\n",
              "\n",
              "      for await (const message of channel.messages) {\n",
              "        // Send a message to notify the kernel that we're ready.\n",
              "        channel.send({})\n",
              "        if (message.buffers) {\n",
              "          for (const buffer of message.buffers) {\n",
              "            buffers.push(buffer);\n",
              "            downloaded += buffer.byteLength;\n",
              "            progress.value = downloaded;\n",
              "          }\n",
              "        }\n",
              "      }\n",
              "      const blob = new Blob(buffers, {type: 'application/binary'});\n",
              "      const a = document.createElement('a');\n",
              "      a.href = window.URL.createObjectURL(blob);\n",
              "      a.download = filename;\n",
              "      div.appendChild(a);\n",
              "      a.click();\n",
              "      div.remove();\n",
              "    }\n",
              "  "
            ]
          },
          "metadata": {}
        },
        {
          "output_type": "display_data",
          "data": {
            "text/plain": [
              "<IPython.core.display.Javascript object>"
            ],
            "application/javascript": [
              "download(\"download_52e219b5-7ecd-4271-8671-61ca8ddf9793\", \"ACT_3|COLUMNA_TARJETAS_DEBITO.csv\", 18521)"
            ]
          },
          "metadata": {}
        },
        {
          "output_type": "display_data",
          "data": {
            "text/plain": [
              "<IPython.core.display.Javascript object>"
            ],
            "application/javascript": [
              "\n",
              "    async function download(id, filename, size) {\n",
              "      if (!google.colab.kernel.accessAllowed) {\n",
              "        return;\n",
              "      }\n",
              "      const div = document.createElement('div');\n",
              "      const label = document.createElement('label');\n",
              "      label.textContent = `Downloading \"${filename}\": `;\n",
              "      div.appendChild(label);\n",
              "      const progress = document.createElement('progress');\n",
              "      progress.max = size;\n",
              "      div.appendChild(progress);\n",
              "      document.body.appendChild(div);\n",
              "\n",
              "      const buffers = [];\n",
              "      let downloaded = 0;\n",
              "\n",
              "      const channel = await google.colab.kernel.comms.open(id);\n",
              "      // Send a message to notify the kernel that we're ready.\n",
              "      channel.send({})\n",
              "\n",
              "      for await (const message of channel.messages) {\n",
              "        // Send a message to notify the kernel that we're ready.\n",
              "        channel.send({})\n",
              "        if (message.buffers) {\n",
              "          for (const buffer of message.buffers) {\n",
              "            buffers.push(buffer);\n",
              "            downloaded += buffer.byteLength;\n",
              "            progress.value = downloaded;\n",
              "          }\n",
              "        }\n",
              "      }\n",
              "      const blob = new Blob(buffers, {type: 'application/binary'});\n",
              "      const a = document.createElement('a');\n",
              "      a.href = window.URL.createObjectURL(blob);\n",
              "      a.download = filename;\n",
              "      div.appendChild(a);\n",
              "      a.click();\n",
              "      div.remove();\n",
              "    }\n",
              "  "
            ]
          },
          "metadata": {}
        },
        {
          "output_type": "display_data",
          "data": {
            "text/plain": [
              "<IPython.core.display.Javascript object>"
            ],
            "application/javascript": [
              "download(\"download_c05157e5-eb11-47d3-ac30-2454a4651c34\", \"ACT_3|COLUMNA_TARJETAS_CREDITO.csv\", 18239)"
            ]
          },
          "metadata": {}
        },
        {
          "output_type": "display_data",
          "data": {
            "text/plain": [
              "<IPython.core.display.Javascript object>"
            ],
            "application/javascript": [
              "\n",
              "    async function download(id, filename, size) {\n",
              "      if (!google.colab.kernel.accessAllowed) {\n",
              "        return;\n",
              "      }\n",
              "      const div = document.createElement('div');\n",
              "      const label = document.createElement('label');\n",
              "      label.textContent = `Downloading \"${filename}\": `;\n",
              "      div.appendChild(label);\n",
              "      const progress = document.createElement('progress');\n",
              "      progress.max = size;\n",
              "      div.appendChild(progress);\n",
              "      document.body.appendChild(div);\n",
              "\n",
              "      const buffers = [];\n",
              "      let downloaded = 0;\n",
              "\n",
              "      const channel = await google.colab.kernel.comms.open(id);\n",
              "      // Send a message to notify the kernel that we're ready.\n",
              "      channel.send({})\n",
              "\n",
              "      for await (const message of channel.messages) {\n",
              "        // Send a message to notify the kernel that we're ready.\n",
              "        channel.send({})\n",
              "        if (message.buffers) {\n",
              "          for (const buffer of message.buffers) {\n",
              "            buffers.push(buffer);\n",
              "            downloaded += buffer.byteLength;\n",
              "            progress.value = downloaded;\n",
              "          }\n",
              "        }\n",
              "      }\n",
              "      const blob = new Blob(buffers, {type: 'application/binary'});\n",
              "      const a = document.createElement('a');\n",
              "      a.href = window.URL.createObjectURL(blob);\n",
              "      a.download = filename;\n",
              "      div.appendChild(a);\n",
              "      a.click();\n",
              "      div.remove();\n",
              "    }\n",
              "  "
            ]
          },
          "metadata": {}
        },
        {
          "output_type": "display_data",
          "data": {
            "text/plain": [
              "<IPython.core.display.Javascript object>"
            ],
            "application/javascript": [
              "download(\"download_09a24874-d406-4b18-8c31-dd3a5451ed78\", \"ACT_3|COLUMNA_BEBIDAS.csv\", 18521)"
            ]
          },
          "metadata": {}
        },
        {
          "output_type": "display_data",
          "data": {
            "text/plain": [
              "<IPython.core.display.Javascript object>"
            ],
            "application/javascript": [
              "\n",
              "    async function download(id, filename, size) {\n",
              "      if (!google.colab.kernel.accessAllowed) {\n",
              "        return;\n",
              "      }\n",
              "      const div = document.createElement('div');\n",
              "      const label = document.createElement('label');\n",
              "      label.textContent = `Downloading \"${filename}\": `;\n",
              "      div.appendChild(label);\n",
              "      const progress = document.createElement('progress');\n",
              "      progress.max = size;\n",
              "      div.appendChild(progress);\n",
              "      document.body.appendChild(div);\n",
              "\n",
              "      const buffers = [];\n",
              "      let downloaded = 0;\n",
              "\n",
              "      const channel = await google.colab.kernel.comms.open(id);\n",
              "      // Send a message to notify the kernel that we're ready.\n",
              "      channel.send({})\n",
              "\n",
              "      for await (const message of channel.messages) {\n",
              "        // Send a message to notify the kernel that we're ready.\n",
              "        channel.send({})\n",
              "        if (message.buffers) {\n",
              "          for (const buffer of message.buffers) {\n",
              "            buffers.push(buffer);\n",
              "            downloaded += buffer.byteLength;\n",
              "            progress.value = downloaded;\n",
              "          }\n",
              "        }\n",
              "      }\n",
              "      const blob = new Blob(buffers, {type: 'application/binary'});\n",
              "      const a = document.createElement('a');\n",
              "      a.href = window.URL.createObjectURL(blob);\n",
              "      a.download = filename;\n",
              "      div.appendChild(a);\n",
              "      a.click();\n",
              "      div.remove();\n",
              "    }\n",
              "  "
            ]
          },
          "metadata": {}
        },
        {
          "output_type": "display_data",
          "data": {
            "text/plain": [
              "<IPython.core.display.Javascript object>"
            ],
            "application/javascript": [
              "download(\"download_6d84633d-beb3-4b4d-a4be-559749167ad3\", \"ACT_3|COLUMNA_PANADERIA.csv\", 17674)"
            ]
          },
          "metadata": {}
        },
        {
          "output_type": "display_data",
          "data": {
            "text/plain": [
              "<IPython.core.display.Javascript object>"
            ],
            "application/javascript": [
              "\n",
              "    async function download(id, filename, size) {\n",
              "      if (!google.colab.kernel.accessAllowed) {\n",
              "        return;\n",
              "      }\n",
              "      const div = document.createElement('div');\n",
              "      const label = document.createElement('label');\n",
              "      label.textContent = `Downloading \"${filename}\": `;\n",
              "      div.appendChild(label);\n",
              "      const progress = document.createElement('progress');\n",
              "      progress.max = size;\n",
              "      div.appendChild(progress);\n",
              "      document.body.appendChild(div);\n",
              "\n",
              "      const buffers = [];\n",
              "      let downloaded = 0;\n",
              "\n",
              "      const channel = await google.colab.kernel.comms.open(id);\n",
              "      // Send a message to notify the kernel that we're ready.\n",
              "      channel.send({})\n",
              "\n",
              "      for await (const message of channel.messages) {\n",
              "        // Send a message to notify the kernel that we're ready.\n",
              "        channel.send({})\n",
              "        if (message.buffers) {\n",
              "          for (const buffer of message.buffers) {\n",
              "            buffers.push(buffer);\n",
              "            downloaded += buffer.byteLength;\n",
              "            progress.value = downloaded;\n",
              "          }\n",
              "        }\n",
              "      }\n",
              "      const blob = new Blob(buffers, {type: 'application/binary'});\n",
              "      const a = document.createElement('a');\n",
              "      a.href = window.URL.createObjectURL(blob);\n",
              "      a.download = filename;\n",
              "      div.appendChild(a);\n",
              "      a.click();\n",
              "      div.remove();\n",
              "    }\n",
              "  "
            ]
          },
          "metadata": {}
        },
        {
          "output_type": "display_data",
          "data": {
            "text/plain": [
              "<IPython.core.display.Javascript object>"
            ],
            "application/javascript": [
              "download(\"download_abd62ba7-f548-4204-bd44-92c49b3e2c20\", \"ACT_3|COLUMNA_LACTEOS.csv\", 18522)"
            ]
          },
          "metadata": {}
        },
        {
          "output_type": "display_data",
          "data": {
            "text/plain": [
              "<IPython.core.display.Javascript object>"
            ],
            "application/javascript": [
              "\n",
              "    async function download(id, filename, size) {\n",
              "      if (!google.colab.kernel.accessAllowed) {\n",
              "        return;\n",
              "      }\n",
              "      const div = document.createElement('div');\n",
              "      const label = document.createElement('label');\n",
              "      label.textContent = `Downloading \"${filename}\": `;\n",
              "      div.appendChild(label);\n",
              "      const progress = document.createElement('progress');\n",
              "      progress.max = size;\n",
              "      div.appendChild(progress);\n",
              "      document.body.appendChild(div);\n",
              "\n",
              "      const buffers = [];\n",
              "      let downloaded = 0;\n",
              "\n",
              "      const channel = await google.colab.kernel.comms.open(id);\n",
              "      // Send a message to notify the kernel that we're ready.\n",
              "      channel.send({})\n",
              "\n",
              "      for await (const message of channel.messages) {\n",
              "        // Send a message to notify the kernel that we're ready.\n",
              "        channel.send({})\n",
              "        if (message.buffers) {\n",
              "          for (const buffer of message.buffers) {\n",
              "            buffers.push(buffer);\n",
              "            downloaded += buffer.byteLength;\n",
              "            progress.value = downloaded;\n",
              "          }\n",
              "        }\n",
              "      }\n",
              "      const blob = new Blob(buffers, {type: 'application/binary'});\n",
              "      const a = document.createElement('a');\n",
              "      a.href = window.URL.createObjectURL(blob);\n",
              "      a.download = filename;\n",
              "      div.appendChild(a);\n",
              "      a.click();\n",
              "      div.remove();\n",
              "    }\n",
              "  "
            ]
          },
          "metadata": {}
        },
        {
          "output_type": "display_data",
          "data": {
            "text/plain": [
              "<IPython.core.display.Javascript object>"
            ],
            "application/javascript": [
              "download(\"download_18647f60-c995-4a10-a797-d03845f7037d\", \"ACT_3|COLUMNA_ALIMENTOS_PREPARADOS_ROSTISERIA.csv\", 17674)"
            ]
          },
          "metadata": {}
        },
        {
          "output_type": "display_data",
          "data": {
            "text/plain": [
              "<IPython.core.display.Javascript object>"
            ],
            "application/javascript": [
              "\n",
              "    async function download(id, filename, size) {\n",
              "      if (!google.colab.kernel.accessAllowed) {\n",
              "        return;\n",
              "      }\n",
              "      const div = document.createElement('div');\n",
              "      const label = document.createElement('label');\n",
              "      label.textContent = `Downloading \"${filename}\": `;\n",
              "      div.appendChild(label);\n",
              "      const progress = document.createElement('progress');\n",
              "      progress.max = size;\n",
              "      div.appendChild(progress);\n",
              "      document.body.appendChild(div);\n",
              "\n",
              "      const buffers = [];\n",
              "      let downloaded = 0;\n",
              "\n",
              "      const channel = await google.colab.kernel.comms.open(id);\n",
              "      // Send a message to notify the kernel that we're ready.\n",
              "      channel.send({})\n",
              "\n",
              "      for await (const message of channel.messages) {\n",
              "        // Send a message to notify the kernel that we're ready.\n",
              "        channel.send({})\n",
              "        if (message.buffers) {\n",
              "          for (const buffer of message.buffers) {\n",
              "            buffers.push(buffer);\n",
              "            downloaded += buffer.byteLength;\n",
              "            progress.value = downloaded;\n",
              "          }\n",
              "        }\n",
              "      }\n",
              "      const blob = new Blob(buffers, {type: 'application/binary'});\n",
              "      const a = document.createElement('a');\n",
              "      a.href = window.URL.createObjectURL(blob);\n",
              "      a.download = filename;\n",
              "      div.appendChild(a);\n",
              "      a.click();\n",
              "      div.remove();\n",
              "    }\n",
              "  "
            ]
          },
          "metadata": {}
        },
        {
          "output_type": "display_data",
          "data": {
            "text/plain": [
              "<IPython.core.display.Javascript object>"
            ],
            "application/javascript": [
              "download(\"download_b6dee7ea-7708-4a3e-a37b-5dc2451cc029\", \"ACT_3|COLUMNA_INDUMENTRAIA_CALZADO_TEXTILES_HOGAR.csv\", 17671)"
            ]
          },
          "metadata": {}
        },
        {
          "output_type": "display_data",
          "data": {
            "text/plain": [
              "<IPython.core.display.Javascript object>"
            ],
            "application/javascript": [
              "\n",
              "    async function download(id, filename, size) {\n",
              "      if (!google.colab.kernel.accessAllowed) {\n",
              "        return;\n",
              "      }\n",
              "      const div = document.createElement('div');\n",
              "      const label = document.createElement('label');\n",
              "      label.textContent = `Downloading \"${filename}\": `;\n",
              "      div.appendChild(label);\n",
              "      const progress = document.createElement('progress');\n",
              "      progress.max = size;\n",
              "      div.appendChild(progress);\n",
              "      document.body.appendChild(div);\n",
              "\n",
              "      const buffers = [];\n",
              "      let downloaded = 0;\n",
              "\n",
              "      const channel = await google.colab.kernel.comms.open(id);\n",
              "      // Send a message to notify the kernel that we're ready.\n",
              "      channel.send({})\n",
              "\n",
              "      for await (const message of channel.messages) {\n",
              "        // Send a message to notify the kernel that we're ready.\n",
              "        channel.send({})\n",
              "        if (message.buffers) {\n",
              "          for (const buffer of message.buffers) {\n",
              "            buffers.push(buffer);\n",
              "            downloaded += buffer.byteLength;\n",
              "            progress.value = downloaded;\n",
              "          }\n",
              "        }\n",
              "      }\n",
              "      const blob = new Blob(buffers, {type: 'application/binary'});\n",
              "      const a = document.createElement('a');\n",
              "      a.href = window.URL.createObjectURL(blob);\n",
              "      a.download = filename;\n",
              "      div.appendChild(a);\n",
              "      a.click();\n",
              "      div.remove();\n",
              "    }\n",
              "  "
            ]
          },
          "metadata": {}
        },
        {
          "output_type": "display_data",
          "data": {
            "text/plain": [
              "<IPython.core.display.Javascript object>"
            ],
            "application/javascript": [
              "download(\"download_b18a21df-af44-4fa5-b328-087153304dce\", \"ACT_3|COLUMNA_ELECTRONICOS_ARTICULOS_HOGAR.csv\", 17668)"
            ]
          },
          "metadata": {}
        },
        {
          "output_type": "display_data",
          "data": {
            "text/plain": [
              "<IPython.core.display.Javascript object>"
            ],
            "application/javascript": [
              "\n",
              "    async function download(id, filename, size) {\n",
              "      if (!google.colab.kernel.accessAllowed) {\n",
              "        return;\n",
              "      }\n",
              "      const div = document.createElement('div');\n",
              "      const label = document.createElement('label');\n",
              "      label.textContent = `Downloading \"${filename}\": `;\n",
              "      div.appendChild(label);\n",
              "      const progress = document.createElement('progress');\n",
              "      progress.max = size;\n",
              "      div.appendChild(progress);\n",
              "      document.body.appendChild(div);\n",
              "\n",
              "      const buffers = [];\n",
              "      let downloaded = 0;\n",
              "\n",
              "      const channel = await google.colab.kernel.comms.open(id);\n",
              "      // Send a message to notify the kernel that we're ready.\n",
              "      channel.send({})\n",
              "\n",
              "      for await (const message of channel.messages) {\n",
              "        // Send a message to notify the kernel that we're ready.\n",
              "        channel.send({})\n",
              "        if (message.buffers) {\n",
              "          for (const buffer of message.buffers) {\n",
              "            buffers.push(buffer);\n",
              "            downloaded += buffer.byteLength;\n",
              "            progress.value = downloaded;\n",
              "          }\n",
              "        }\n",
              "      }\n",
              "      const blob = new Blob(buffers, {type: 'application/binary'});\n",
              "      const a = document.createElement('a');\n",
              "      a.href = window.URL.createObjectURL(blob);\n",
              "      a.download = filename;\n",
              "      div.appendChild(a);\n",
              "      a.click();\n",
              "      div.remove();\n",
              "    }\n",
              "  "
            ]
          },
          "metadata": {}
        },
        {
          "output_type": "display_data",
          "data": {
            "text/plain": [
              "<IPython.core.display.Javascript object>"
            ],
            "application/javascript": [
              "download(\"download_d88fd9c7-612b-444c-bedc-a1ff5fa9219d\", \"ACT_3|COLUMNA_OTROS.csv\", 17951)"
            ]
          },
          "metadata": {}
        }
      ]
    }
  ]
}